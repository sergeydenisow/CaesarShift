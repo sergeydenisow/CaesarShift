{
 "cells": [
  {
   "cell_type": "markdown",
   "id": "b1495854-44f2-4772-9cd3-6ad322c8d758",
   "metadata": {},
   "source": [
    "# Caesar shift."
   ]
  },
  {
   "cell_type": "markdown",
   "id": "b20bcf26-9487-41f4-a70c-f5d7f35fd201",
   "metadata": {},
   "source": [
    "## Задача №1.\n",
    "\n",
    "1. Написать алгоритм шифра Цезаря для генерации выборки (сдвиг на К каждой буквы. Например, при сдвиге на 2 буква “А” переходит в букву “В” и тп)\n",
    "2. Сделать нейронную сеть\n",
    "3. Обучить ее (вход - зашифрованная фраза, выход - дешифрованная фраза)\n",
    "4. Проверить качество"
   ]
  },
  {
   "cell_type": "code",
   "execution_count": 26,
   "id": "7ef45756-aeee-411a-b24e-0d66c6de356c",
   "metadata": {},
   "outputs": [],
   "source": [
    "import re\n",
    "import torch"
   ]
  },
  {
   "cell_type": "code",
   "execution_count": 2,
   "id": "4e366cf4-e5ef-4fc0-9598-42e977734088",
   "metadata": {},
   "outputs": [],
   "source": [
    "letters = \"а б в г д е ё ж з и й к л м н о п р с т у ф х ц ч ш щ ъ ы ь э ю я\""
   ]
  },
  {
   "cell_type": "code",
   "execution_count": 3,
   "id": "7ee49da7-c6b8-4b7c-80de-a43fcc735d70",
   "metadata": {},
   "outputs": [],
   "source": [
    "indexes = [i for i in range(33)]"
   ]
  },
  {
   "cell_type": "code",
   "execution_count": 4,
   "id": "bc0d3d11-22fd-45e5-a040-a9f97b677b85",
   "metadata": {},
   "outputs": [],
   "source": [
    "alphabet = dict(zip(indexes, letters.split()))"
   ]
  },
  {
   "cell_type": "code",
   "execution_count": 5,
   "id": "f81e2d57-d33e-4de8-86c5-8ece204e439b",
   "metadata": {},
   "outputs": [],
   "source": [
    "# pattern = r'[АБВГДЕЁЖЗИЙКЛМНОПРСТУФХЦЧШЩЪЫЬЭЮЯабвгдеёжзийклмнопрстуфхцчшщъыьэюя]'\n",
    "pattern = r'[абвгдеёжзийклмнопрстуфхцчшщъыьэюя]'"
   ]
  },
  {
   "cell_type": "code",
   "execution_count": 6,
   "id": "5b804b68-9696-486c-a2fa-8db89d4d12ca",
   "metadata": {},
   "outputs": [],
   "source": [
    "# list(alphabet.values()).index('я')"
   ]
  },
  {
   "cell_type": "code",
   "execution_count": 7,
   "id": "9f82c0ac-854a-4001-8b1b-2f7ccd0757ef",
   "metadata": {},
   "outputs": [],
   "source": [
    "# def get_letter(index):\n",
    "#     return alphabet[index]"
   ]
  },
  {
   "cell_type": "code",
   "execution_count": 8,
   "id": "74aca195-0bb9-455f-84a0-7ca1bfd3d849",
   "metadata": {},
   "outputs": [],
   "source": [
    "def get_index(letter):\n",
    "    if letter in alphabet.values():\n",
    "        return list(alphabet.values()).index(letter)"
   ]
  },
  {
   "cell_type": "code",
   "execution_count": 9,
   "id": "8d80f970-569a-458d-bc56-8eee5702e4d0",
   "metadata": {},
   "outputs": [
    {
     "data": {
      "text/plain": [
       "int"
      ]
     },
     "execution_count": 9,
     "metadata": {},
     "output_type": "execute_result"
    }
   ],
   "source": [
    "type(get_index('б'))"
   ]
  },
  {
   "cell_type": "code",
   "execution_count": 10,
   "id": "437591fa-e08e-435b-b98e-ac83f18b560c",
   "metadata": {},
   "outputs": [
    {
     "data": {
      "text/plain": [
       "'п'"
      ]
     },
     "execution_count": 10,
     "metadata": {},
     "output_type": "execute_result"
    }
   ],
   "source": [
    "# Если сдвиг 5\n",
    "shift = 7\n",
    "alphabet[get_index('п')]"
   ]
  },
  {
   "cell_type": "code",
   "execution_count": 11,
   "id": "96be570f-ca23-4118-b049-753809342efb",
   "metadata": {},
   "outputs": [],
   "source": [
    "def get_new_index(alphabet_lenght, index, shift):\n",
    "    if shift >= alphabet_lenght:\n",
    "        shift = shift%alphabet_lenght\n",
    "    else:\n",
    "        pass\n",
    "    \n",
    "    if index < shift:\n",
    "        return alphabet_lenght + (index - shift%alphabet_lenght)\n",
    "    else:\n",
    "        return index - shift%alphabet_lenght"
   ]
  },
  {
   "cell_type": "code",
   "execution_count": 12,
   "id": "da93fb47-5062-4b37-8dd4-bc5435cb62d6",
   "metadata": {},
   "outputs": [],
   "source": [
    "test_string = \"Некоторые люди для запоминания количества букв в русском алфавите ассоциируют их с популярными фразами: «33 удовольствия», «33 несчастья», «33 коровы». Другие люди ассоциируют с фактами из своей жизни: живу в квартире номер 33, живу в регионе 33 (Владимирская область), играю в команде под номером 33 и подобными. И если число букв алфавита вновь забывается, то ассоциированные фразы помогают его вспомнить. Может, и вам поможет.\""
   ]
  },
  {
   "cell_type": "code",
   "execution_count": 13,
   "id": "c7673608-43eb-4721-9efe-51d08ff6aebb",
   "metadata": {},
   "outputs": [
    {
     "data": {
      "text/plain": [
       "'некоторые люди для запоминания количества букв в русском алфавите ассоциируют их с популярными фразами: «33 удовольствия», «33 несчастья», «33 коровы». другие люди ассоциируют с фактами из своей жизни: живу в квартире номер 33, живу в регионе 33 (владимирская область), играю в команде под номером 33 и подобными. и если число букв алфавита вновь забывается, то ассоциированные фразы помогают его вспомнить. может, и вам поможет.'"
      ]
     },
     "execution_count": 13,
     "metadata": {},
     "output_type": "execute_result"
    }
   ],
   "source": [
    "test_string.lower()"
   ]
  },
  {
   "cell_type": "code",
   "execution_count": 14,
   "id": "4d2e984d-e266-461f-8295-f0c21a0e0b1b",
   "metadata": {},
   "outputs": [],
   "source": [
    "new_string = []\n",
    "\n",
    "for letter in test_string.lower():\n",
    "    if letter in re.findall(pattern=pattern, string=test_string.lower()):\n",
    "        index = get_new_index(len(alphabet), get_index(letter), shift)\n",
    "        letter = alphabet[index]\n",
    "    else:\n",
    "        pass\n",
    "    new_string.append(letter)"
   ]
  },
  {
   "cell_type": "code",
   "execution_count": 15,
   "id": "6ee50c90-8550-4f93-9587-0ae0067f2d7c",
   "metadata": {},
   "outputs": [
    {
     "data": {
      "text/plain": [
       "'жюдзлзйфю ечэв эеш бщизёвжщжвш дзеврюклыщ ъмды ы ймккдзё щенщывлю щккзпввймчл во к изимешйжфёв нйщбщёв: «33 мэзызехклывш», «33 жюкрщклхш», «33 дзйзыф». эймьвю ечэв щккзпввймчл к нщдлщёв вб кызюг авбжв: авым ы дыщйлвйю жзёюй 33, авым ы йюьвзжю 33 (ыещэвёвйкдщш зъещклх), вьйщч ы дзёщжэю изэ жзёюйзё 33 в изэзъжфёв. в юкев рвкез ъмды щенщывлщ ыжзых бщъфыщюлкш, лз щккзпввйзыщжжфю нйщбф изёзьщчл юьз ыкизёжвлх. ёзаюл, в ыщё изёзаюл.'"
      ]
     },
     "execution_count": 15,
     "metadata": {},
     "output_type": "execute_result"
    }
   ],
   "source": [
    "''.join(new_string)"
   ]
  },
  {
   "cell_type": "code",
   "execution_count": 16,
   "id": "b88a8991-bba5-483f-b1cf-a333bddc83d4",
   "metadata": {},
   "outputs": [],
   "source": [
    "file = open('./onegin.txt', 'r')"
   ]
  },
  {
   "cell_type": "code",
   "execution_count": 17,
   "id": "003d7fb7-4be7-420b-95e3-46213cc9d917",
   "metadata": {},
   "outputs": [],
   "source": [
    "lines = file.readlines()"
   ]
  },
  {
   "cell_type": "code",
   "execution_count": 18,
   "id": "086f2e5a-3399-4979-96c5-d853de729f9f",
   "metadata": {},
   "outputs": [],
   "source": [
    "original = lines[21:].copy()\n",
    "encrypted = []"
   ]
  },
  {
   "cell_type": "code",
   "execution_count": null,
   "id": "0f43c10a-08b6-4b6a-a33a-f50bba2f3cd0",
   "metadata": {},
   "outputs": [],
   "source": []
  },
  {
   "cell_type": "code",
   "execution_count": 21,
   "id": "54336558-176f-48aa-902f-e37f6a209f07",
   "metadata": {},
   "outputs": [],
   "source": [
    "#Удаляем табуляции, знаки переноса и пробелы по краям строк. \n",
    "for item in original:\n",
    "    item.strip()"
   ]
  },
  {
   "cell_type": "code",
   "execution_count": 38,
   "id": "8ff0c15d-67d1-4545-a0a8-29f802a19e2e",
   "metadata": {},
   "outputs": [
    {
     "data": {
      "text/plain": [
       "260"
      ]
     },
     "execution_count": 38,
     "metadata": {},
     "output_type": "execute_result"
    }
   ],
   "source": [
    "max( [len(i) for i in original] )"
   ]
  },
  {
   "cell_type": "code",
   "execution_count": 40,
   "id": "130bb7a7-e89d-468d-a29c-f0d5356b6b55",
   "metadata": {},
   "outputs": [],
   "source": [
    "# Кодируем строки\n",
    "\n",
    "for item in original:\n",
    "    tmp = []\n",
    "    item.lower().strip()\n",
    "    for letter in item:\n",
    "        if letter in re.findall(pattern=pattern, string=item):\n",
    "            index = get_new_index(len(alphabet), get_index(letter), shift)\n",
    "            letter = alphabet[index]\n",
    "        else:\n",
    "            pass\n",
    "        tmp.append(letter)\n",
    "    \n",
    "    encrypted.append(''.join(tmp))"
   ]
  },
  {
   "cell_type": "code",
   "execution_count": 41,
   "id": "0a1b4a90-2b54-42a0-a43c-c63baa046cb7",
   "metadata": {},
   "outputs": [
    {
     "data": {
      "text/plain": [
       "260"
      ]
     },
     "execution_count": 41,
     "metadata": {},
     "output_type": "execute_result"
    }
   ],
   "source": [
    "max( [len(i) for i in encrypted] )"
   ]
  },
  {
   "cell_type": "code",
   "execution_count": 25,
   "id": "0a9d759a-fe41-4010-8084-a9eeb7622e01",
   "metadata": {},
   "outputs": [
    {
     "data": {
      "text/plain": [
       "(1996, 1996)"
      ]
     },
     "execution_count": 25,
     "metadata": {},
     "output_type": "execute_result"
    }
   ],
   "source": [
    "len(original), len(encrypted)"
   ]
  },
  {
   "cell_type": "code",
   "execution_count": 42,
   "id": "fdfaa3ce-2671-4278-864b-d5b4d7244ea1",
   "metadata": {},
   "outputs": [],
   "source": [
    "class CaesarShift(torch.nn.Module):\n",
    "\n",
    "    def __init__(self):\n",
    "        super(CaesarShift, self).__init__()\n",
    "        \n",
    "        self.encoder = torch.nn.RNN(input_size=260, hidden_size=64)\n",
    "        \n",
    "        self.decoder = torch.nn.RNN(input_size=260, hidden_size=64)\n",
    "        \n",
    "        \n",
    "    def forward(self, x):\n",
    "        encoder = self.encoder(x)\n",
    "        decoder = self.decoder(encoder)\n",
    "        return decoder\n",
    "\n",
    "# model\n",
    "model = CaesarShift()\n",
    "\n",
    "\n",
    "loss = torch.nn.CrossEntropyLoss()\n",
    "optimizer = torch.optim.RMSprop(model.parameters(), lr = 0.0001)"
   ]
  },
  {
   "cell_type": "code",
   "execution_count": 43,
   "id": "40ff907a-e8fc-4546-bede-654d5236c090",
   "metadata": {},
   "outputs": [
    {
     "data": {
      "text/plain": [
       "CaesarShift(\n",
       "  (encoder): RNN(260, 64)\n",
       "  (decoder): RNN(260, 64)\n",
       ")"
      ]
     },
     "execution_count": 43,
     "metadata": {},
     "output_type": "execute_result"
    }
   ],
   "source": [
    "model"
   ]
  },
  {
   "cell_type": "code",
   "execution_count": null,
   "id": "83f59131-aa3f-435b-bed4-42199f113a24",
   "metadata": {},
   "outputs": [],
   "source": []
  },
  {
   "cell_type": "code",
   "execution_count": null,
   "id": "3e747f7a-103c-4162-bcda-26a325da4bc4",
   "metadata": {},
   "outputs": [],
   "source": []
  },
  {
   "cell_type": "code",
   "execution_count": null,
   "id": "29bb21d0-c7ca-4c63-a4b6-5eb77135fc98",
   "metadata": {},
   "outputs": [],
   "source": []
  },
  {
   "cell_type": "code",
   "execution_count": null,
   "id": "37834139-9ad6-44b3-8f12-ea5e334948ef",
   "metadata": {},
   "outputs": [],
   "source": []
  },
  {
   "cell_type": "markdown",
   "id": "c339fd67-8888-4e1b-82c1-ee756aba9c15",
   "metadata": {},
   "source": [
    "## Задача №2.\n",
    "\n",
    "1. Построить RNN-ячейку на основе полносвязных слоев\n",
    "2. Применить построенную ячейку для генерации текста с выражениями героев сериала “Симпсоны”"
   ]
  },
  {
   "cell_type": "code",
   "execution_count": null,
   "id": "4b537583-653d-4075-adde-993035f215df",
   "metadata": {},
   "outputs": [],
   "source": []
  },
  {
   "cell_type": "code",
   "execution_count": null,
   "id": "32b453b6-1b54-4f19-9d25-4ac8a3cacf74",
   "metadata": {},
   "outputs": [],
   "source": []
  }
 ],
 "metadata": {
  "kernelspec": {
   "display_name": "Python 3",
   "language": "python",
   "name": "python3"
  },
  "language_info": {
   "codemirror_mode": {
    "name": "ipython",
    "version": 3
   },
   "file_extension": ".py",
   "mimetype": "text/x-python",
   "name": "python",
   "nbconvert_exporter": "python",
   "pygments_lexer": "ipython3",
   "version": "3.9.12"
  }
 },
 "nbformat": 4,
 "nbformat_minor": 5
}
