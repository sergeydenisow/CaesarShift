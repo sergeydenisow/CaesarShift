{
 "cells": [
  {
   "cell_type": "markdown",
   "id": "b1495854-44f2-4772-9cd3-6ad322c8d758",
   "metadata": {},
   "source": [
    "# Caesar shift."
   ]
  },
  {
   "cell_type": "markdown",
   "id": "b20bcf26-9487-41f4-a70c-f5d7f35fd201",
   "metadata": {},
   "source": [
    "## Задача №1.\n",
    "\n",
    "1. Написать алгоритм шифра Цезаря для генерации выборки (сдвиг на К каждой буквы. Например, при сдвиге на 2 буква “А” переходит в букву “В” и тп)\n",
    "2. Сделать нейронную сеть\n",
    "3. Обучить ее (вход - зашифрованная фраза, выход - дешифрованная фраза)\n",
    "4. Проверить качество"
   ]
  },
  {
   "cell_type": "code",
   "execution_count": 344,
   "id": "7ef45756-aeee-411a-b24e-0d66c6de356c",
   "metadata": {},
   "outputs": [],
   "source": [
    "import re\n",
    "import torch\n",
    "from tqdm import tqdm\n",
    "import numpy as np\n",
    "import time"
   ]
  },
  {
   "cell_type": "code",
   "execution_count": 283,
   "id": "4e366cf4-e5ef-4fc0-9598-42e977734088",
   "metadata": {},
   "outputs": [],
   "source": [
    "letters = \"а б в г д е ё ж з и й к л м н о п р с т у ф х ц ч ш щ ъ ы ь э ю я\""
   ]
  },
  {
   "cell_type": "code",
   "execution_count": 284,
   "id": "7ee49da7-c6b8-4b7c-80de-a43fcc735d70",
   "metadata": {},
   "outputs": [],
   "source": [
    "indexes = [i+1 for i in range(33)]"
   ]
  },
  {
   "cell_type": "code",
   "execution_count": 285,
   "id": "bc0d3d11-22fd-45e5-a040-a9f97b677b85",
   "metadata": {},
   "outputs": [],
   "source": [
    "alphabet = dict(zip(indexes, letters.split()))"
   ]
  },
  {
   "cell_type": "code",
   "execution_count": 286,
   "id": "baf7025b-8112-4833-9da2-1a8bc6f6a8a1",
   "metadata": {},
   "outputs": [
    {
     "data": {
      "text/plain": [
       "{1: 'а',\n",
       " 2: 'б',\n",
       " 3: 'в',\n",
       " 4: 'г',\n",
       " 5: 'д',\n",
       " 6: 'е',\n",
       " 7: 'ё',\n",
       " 8: 'ж',\n",
       " 9: 'з',\n",
       " 10: 'и',\n",
       " 11: 'й',\n",
       " 12: 'к',\n",
       " 13: 'л',\n",
       " 14: 'м',\n",
       " 15: 'н',\n",
       " 16: 'о',\n",
       " 17: 'п',\n",
       " 18: 'р',\n",
       " 19: 'с',\n",
       " 20: 'т',\n",
       " 21: 'у',\n",
       " 22: 'ф',\n",
       " 23: 'х',\n",
       " 24: 'ц',\n",
       " 25: 'ч',\n",
       " 26: 'ш',\n",
       " 27: 'щ',\n",
       " 28: 'ъ',\n",
       " 29: 'ы',\n",
       " 30: 'ь',\n",
       " 31: 'э',\n",
       " 32: 'ю',\n",
       " 33: 'я'}"
      ]
     },
     "execution_count": 286,
     "metadata": {},
     "output_type": "execute_result"
    }
   ],
   "source": [
    "alphabet"
   ]
  },
  {
   "cell_type": "code",
   "execution_count": 287,
   "id": "74aca195-0bb9-455f-84a0-7ca1bfd3d849",
   "metadata": {},
   "outputs": [],
   "source": [
    "def get_index(alphabet, letter):\n",
    "    if letter in alphabet.values():\n",
    "        return list(alphabet.values()).index(letter) + 1"
   ]
  },
  {
   "cell_type": "code",
   "execution_count": 288,
   "id": "5cc86243-603e-40ae-892e-36fda27cc35a",
   "metadata": {},
   "outputs": [],
   "source": [
    "# [get_index(alphabet, i) for i in alphabet.values()]"
   ]
  },
  {
   "cell_type": "code",
   "execution_count": 289,
   "id": "9ccc7252-15ce-4579-a92c-c3d2bfdf98cb",
   "metadata": {},
   "outputs": [],
   "source": [
    "def ohe_vector(alphabet, letter):\n",
    "    vector_letter = np.zeros(33)\n",
    "    index = get_index(alphabet=alphabet, letter=letter)\n",
    "    vector_letter[index] = 1\n",
    "    return vector_letter"
   ]
  },
  {
   "cell_type": "code",
   "execution_count": 290,
   "id": "3677c96e-68a7-476c-9522-1a23a3f3e090",
   "metadata": {},
   "outputs": [
    {
     "data": {
      "text/plain": [
       "array([0., 0., 0., 0., 0., 1., 0., 0., 0., 0., 0., 0., 0., 0., 0., 0., 0.,\n",
       "       0., 0., 0., 0., 0., 0., 0., 0., 0., 0., 0., 0., 0., 0., 0., 0.])"
      ]
     },
     "execution_count": 290,
     "metadata": {},
     "output_type": "execute_result"
    }
   ],
   "source": [
    "ohe_vector(alphabet, 'д')"
   ]
  },
  {
   "cell_type": "code",
   "execution_count": 291,
   "id": "f81e2d57-d33e-4de8-86c5-8ece204e439b",
   "metadata": {},
   "outputs": [],
   "source": [
    "# pattern = r'[АБВГДЕЁЖЗИЙКЛМНОПРСТУФХЦЧШЩЪЫЬЭЮЯабвгдеёжзийклмнопрстуфхцчшщъыьэюя]'\n",
    "pattern_1 = r'[абвгдеёжзийклмнопрстуфхцчшщъыьэюя]'\n",
    "# pattern_2 = r'[^абвгдеёжзийклмнопрстуфхцчшщъыьэюя0-9 ]'\n",
    "pattern_2 = r'[^абвгдеёжзийклмнопрстуфхцчшщъыьэюя ]'"
   ]
  },
  {
   "cell_type": "code",
   "execution_count": 292,
   "id": "437591fa-e08e-435b-b98e-ac83f18b560c",
   "metadata": {},
   "outputs": [
    {
     "data": {
      "text/plain": [
       "'п'"
      ]
     },
     "execution_count": 292,
     "metadata": {},
     "output_type": "execute_result"
    }
   ],
   "source": [
    "# Если сдвиг 5\n",
    "shift = 7\n",
    "alphabet[get_index(alphabet, 'п')]"
   ]
  },
  {
   "cell_type": "code",
   "execution_count": 304,
   "id": "96be570f-ca23-4118-b049-753809342efb",
   "metadata": {},
   "outputs": [],
   "source": [
    "# Функция вычисляет новый индекс в зависимости от величины сдвига.\n",
    "def get_new_index(alphabet_lenght, index, shift):\n",
    "    if shift >= alphabet_lenght:\n",
    "        shift = shift%alphabet_lenght\n",
    "    else:\n",
    "        pass\n",
    "    \n",
    "    if index < shift:\n",
    "        return alphabet_lenght + (index - shift%alphabet_lenght)\n",
    "    else:\n",
    "        return index - shift%alphabet_lenght"
   ]
  },
  {
   "cell_type": "code",
   "execution_count": 346,
   "id": "ed419e3a-e996-4b3e-8010-85843ff18597",
   "metadata": {},
   "outputs": [],
   "source": [
    "# [get_new_index(alphabet_lenght=len(alphabet), index=i, shift=7)+1 for i in range(33)]"
   ]
  },
  {
   "cell_type": "code",
   "execution_count": 294,
   "id": "da93fb47-5062-4b37-8dd4-bc5435cb62d6",
   "metadata": {},
   "outputs": [],
   "source": [
    "test_string = \"Некоторые люди для запоминания количества букв в русском алфавите ассоциируют их с популярными фразами: «33 удовольствия», «33 несчастья», «33 коровы». Другие люди ассоциируют с фактами из своей жизни: живу в квартире номер 33, живу в регионе 33 (Владимирская область), играю в команде под номером 33 и подобными. И если число букв алфавита вновь забывается, то ассоциированные фразы помогают его вспомнить. Может, и вам поможет.\""
   ]
  },
  {
   "cell_type": "code",
   "execution_count": 295,
   "id": "c7673608-43eb-4721-9efe-51d08ff6aebb",
   "metadata": {},
   "outputs": [
    {
     "data": {
      "text/plain": [
       "'некоторые люди для запоминания количества букв в русском алфавите ассоциируют их с популярными фразами: «33 удовольствия», «33 несчастья», «33 коровы». другие люди ассоциируют с фактами из своей жизни: живу в квартире номер 33, живу в регионе 33 (владимирская область), играю в команде под номером 33 и подобными. и если число букв алфавита вновь забывается, то ассоциированные фразы помогают его вспомнить. может, и вам поможет.'"
      ]
     },
     "execution_count": 295,
     "metadata": {},
     "output_type": "execute_result"
    }
   ],
   "source": [
    "test_string.lower()"
   ]
  },
  {
   "cell_type": "code",
   "execution_count": 308,
   "id": "4d2e984d-e266-461f-8295-f0c21a0e0b1b",
   "metadata": {},
   "outputs": [],
   "source": [
    "# Кодируем строку текста шифором Цезаря.\n",
    "def encoder_to_caesarshift(pattern, alphabet, shift, string):\n",
    "    encoder_string = []\n",
    "    for letter in string.lower():\n",
    "        if letter in alphabet.values():\n",
    "            index = get_new_index(len(alphabet), get_index(alphabet, letter), shift) + 1\n",
    "            letter = alphabet[index]\n",
    "        else:\n",
    "            pass\n",
    "        encoder_string.append(letter)\n",
    "    return ''.join(encoder_string)"
   ]
  },
  {
   "cell_type": "code",
   "execution_count": 309,
   "id": "6ee50c90-8550-4f93-9587-0ae0067f2d7c",
   "metadata": {},
   "outputs": [
    {
     "data": {
      "text/plain": [
       "'зяеимикхя ёшюг юёщ въйижгзъзгщ еиёгсялмьъ ынеь ь кнллеиж ъёоъьгмя ъллирггкншм гп л йийнёщкзхжг окъвъжг: «33 нюиьиёцлмьгщ», «33 зялсълмцщ», «33 еикиьх». юкнэгя ёшюг ъллирггкншм л оъемъжг гв льияд бгвзг: бгьн ь еьъкмгкя зижяк 33, бгьн ь кяэгизя 33 (ьёъюгжгклеъщ иыёълмц), гэкъш ь еижъзюя йию зижякиж 33 г йиюиызхжг. г ялёг сглёи ынеь ъёоъьгмъ ьзиьц въыхьъямлщ, ми ъллирггкиьъззхя окъвх йижиэъшм яэи ьлйижзгмц. жибям, г ьъж йижибям.'"
      ]
     },
     "execution_count": 309,
     "metadata": {},
     "output_type": "execute_result"
    }
   ],
   "source": [
    "encoder_to_caesarshift(pattern_1, alphabet, 7, test_string)"
   ]
  },
  {
   "cell_type": "code",
   "execution_count": null,
   "id": "9c3d29f9-80ae-4b5b-b886-a6772fc44cd4",
   "metadata": {},
   "outputs": [],
   "source": []
  },
  {
   "cell_type": "markdown",
   "id": "30385ba0-4344-4989-b8b5-791997896d5b",
   "metadata": {},
   "source": [
    "## Загружаем \"Евгений Онегин\"."
   ]
  },
  {
   "cell_type": "code",
   "execution_count": 310,
   "id": "b88a8991-bba5-483f-b1cf-a333bddc83d4",
   "metadata": {},
   "outputs": [],
   "source": [
    "file = open('./onegin.txt', 'r')"
   ]
  },
  {
   "cell_type": "code",
   "execution_count": 311,
   "id": "003d7fb7-4be7-420b-95e3-46213cc9d917",
   "metadata": {},
   "outputs": [],
   "source": [
    "lines = file.readlines()"
   ]
  },
  {
   "cell_type": "code",
   "execution_count": null,
   "id": "9a1a479d-5ffb-43b5-8228-47967047113f",
   "metadata": {},
   "outputs": [],
   "source": []
  },
  {
   "cell_type": "code",
   "execution_count": 312,
   "id": "1b362192-1702-425c-84bc-73eb2eca31d9",
   "metadata": {},
   "outputs": [],
   "source": [
    "text = []\n",
    "onegin = []\n",
    "caesar = []"
   ]
  },
  {
   "cell_type": "code",
   "execution_count": 313,
   "id": "29bb21d0-c7ca-4c63-a4b6-5eb77135fc98",
   "metadata": {},
   "outputs": [],
   "source": [
    "# оставляем только русские слова в нижнем регистре.\n",
    "for line in lines[21:]:\n",
    "    tmp = line.split()\n",
    "    if len(tmp) <= 1:\n",
    "        pass\n",
    "    else:\n",
    "        string = ' '.join(tmp).lower()\n",
    "        # print(string)\n",
    "        text.append(re.sub(pattern=pattern_2, repl='', string=string))"
   ]
  },
  {
   "cell_type": "code",
   "execution_count": 314,
   "id": "d922f311-25ec-4922-8f61-6cff6d9e3678",
   "metadata": {},
   "outputs": [],
   "source": [
    "# text"
   ]
  },
  {
   "cell_type": "code",
   "execution_count": 315,
   "id": "37834139-9ad6-44b3-8f12-ea5e334948ef",
   "metadata": {},
   "outputs": [],
   "source": [
    "# список всех слов\n",
    "for item in text:\n",
    "    for word in item.split():\n",
    "        caesar.append(encoder_to_caesarshift(pattern_1, alphabet, shift=shift, string=word))\n",
    "        onegin.append(word)"
   ]
  },
  {
   "cell_type": "code",
   "execution_count": 317,
   "id": "df7c3ff9-e5ed-4242-9984-a1d9a2ed6a1e",
   "metadata": {},
   "outputs": [],
   "source": [
    "# caesar"
   ]
  },
  {
   "cell_type": "code",
   "execution_count": 322,
   "id": "3700fe03-e53b-4953-a5e1-057d5aabe408",
   "metadata": {},
   "outputs": [],
   "source": [
    "# самое длинное слово\n",
    "MAX_LEN_WORD = max(len(i) for i in onegin)"
   ]
  },
  {
   "cell_type": "code",
   "execution_count": 323,
   "id": "34a2a8de-accb-4c67-90e3-76190211c0f8",
   "metadata": {},
   "outputs": [
    {
     "data": {
      "text/plain": [
       "18"
      ]
     },
     "execution_count": 323,
     "metadata": {},
     "output_type": "execute_result"
    }
   ],
   "source": [
    "MAX_LEN_WORD"
   ]
  },
  {
   "cell_type": "code",
   "execution_count": 324,
   "id": "8fa6c16d-9277-4646-ac0c-600b8be1baf7",
   "metadata": {},
   "outputs": [],
   "source": [
    "LEN = len(onegin)"
   ]
  },
  {
   "cell_type": "code",
   "execution_count": 325,
   "id": "01afc574-d45d-4a09-b398-a19961b06276",
   "metadata": {},
   "outputs": [],
   "source": [
    "OHE_VEC_LEN = len(alphabet)"
   ]
  },
  {
   "cell_type": "code",
   "execution_count": 330,
   "id": "a719680f-996c-4d21-8b95-ad5577a47d27",
   "metadata": {},
   "outputs": [],
   "source": [
    "ohe_onegin = np.zeros(shape=(LEN, MAX_LEN_WORD, OHE_VEC_LEN))\n",
    "ohe_caesar = np.zeros(shape=(LEN, MAX_LEN_WORD, OHE_VEC_LEN))"
   ]
  },
  {
   "cell_type": "code",
   "execution_count": null,
   "id": "b58f47a6-f301-4973-b13f-58546e273f75",
   "metadata": {},
   "outputs": [],
   "source": []
  },
  {
   "cell_type": "code",
   "execution_count": 331,
   "id": "85643d32-b8d1-41cc-b5c3-4cbe60518aa3",
   "metadata": {},
   "outputs": [],
   "source": [
    "# матрица [число слов, максимально длинное слово, ohe букв]\n",
    "for i, word in enumerate(onegin):\n",
    "    string = re.findall(pattern=pattern_1, string=word)\n",
    "    for j, letter in enumerate(string):\n",
    "        index = get_index(alphabet=alphabet, letter=letter)\n",
    "        ohe_onegin[i][j][index - 1] = 1"
   ]
  },
  {
   "cell_type": "code",
   "execution_count": 335,
   "id": "52cfe15e-ceab-4cab-9b31-793d8e66435c",
   "metadata": {},
   "outputs": [],
   "source": [
    "# матрица [число слов, максимально длинное слово, ohe букв]\n",
    "for i, word in enumerate(caesar):\n",
    "    string = re.findall(pattern=pattern_1, string=word)\n",
    "    for j, letter in enumerate(string):\n",
    "        index = get_index(alphabet=alphabet, letter=letter)\n",
    "        ohe_caesar[i][j][index - 1] = 1"
   ]
  },
  {
   "cell_type": "markdown",
   "id": "450871f5-06c8-4f4b-b747-e92a8f366c14",
   "metadata": {},
   "source": [
    "## Готовим данные."
   ]
  },
  {
   "cell_type": "code",
   "execution_count": 339,
   "id": "7c15a814-2ea0-4ba3-aab1-968b3d335925",
   "metadata": {},
   "outputs": [],
   "source": [
    "from torch.utils.data import TensorDataset, DataLoader"
   ]
  },
  {
   "cell_type": "code",
   "execution_count": 341,
   "id": "142b423d-b334-479b-8020-14beaaabd9cc",
   "metadata": {},
   "outputs": [],
   "source": [
    "batch_size = 32\n",
    "dataset_train = TensorDataset(torch.Tensor(ohe_caesar), torch.Tensor(ohe_onegin))\n",
    "data_train = DataLoader(dataset_train, batch_size, shuffle=True)"
   ]
  },
  {
   "cell_type": "code",
   "execution_count": 352,
   "id": "b8cd9ad4-9243-4e08-9be5-106af34ca070",
   "metadata": {},
   "outputs": [
    {
     "data": {
      "text/plain": [
       "torch.Size([6191, 18, 33])"
      ]
     },
     "execution_count": 352,
     "metadata": {},
     "output_type": "execute_result"
    }
   ],
   "source": [
    "data_train.dataset.tensors[1].shape"
   ]
  },
  {
   "cell_type": "markdown",
   "id": "9dec4654-666c-476b-9011-4d581553a543",
   "metadata": {},
   "source": [
    "## Модель."
   ]
  },
  {
   "cell_type": "code",
   "execution_count": 357,
   "id": "f0d8cc26-5fca-44a6-8033-22dc68d09c01",
   "metadata": {},
   "outputs": [],
   "source": [
    "class CaesarShift(torch.nn.Module):\n",
    "\n",
    "    def __init__(self):\n",
    "        super(CaesarShift, self).__init__()\n",
    "        \n",
    "        self.rnn = torch.nn.RNN(input_size=33, hidden_size=18*33, num_layers=3, batch_first=True, nonlinearity='tanh')\n",
    "        # self.fc = torch.nn.Softmax(dim=1)\n",
    "        self.fc = torch.nn.Linear(18*33, 33, bias=True)\n",
    "        \n",
    "    def forward(self, x):\n",
    "        x, h_0 = self.rnn(x)\n",
    "        x = self.fc(x)\n",
    "        # x = x.view(x.size(0), -1)\n",
    "        # out = torch.argmax(x, dim=2)\n",
    "        return x\n",
    "\n",
    "# model\n",
    "model = CaesarShift()\n",
    "\n",
    "\n",
    "criterion = torch.nn.CrossEntropyLoss()\n",
    "optimizer = torch.optim.RMSprop(model.parameters(), lr = 0.0001)"
   ]
  },
  {
   "cell_type": "code",
   "execution_count": 358,
   "id": "4bb4af6a-57fe-4007-90c6-b6e33d7504dd",
   "metadata": {},
   "outputs": [],
   "source": [
    "num_epochs = 20"
   ]
  },
  {
   "cell_type": "code",
   "execution_count": 360,
   "id": "4c4309c1-289b-467b-941b-a2242ff20ec8",
   "metadata": {},
   "outputs": [
    {
     "name": "stdout",
     "output_type": "stream",
     "text": [
      "Epoch 0. Time: 26.721, Train loss: 0.163\n",
      "Epoch 1. Time: 25.738, Train loss: 0.042\n",
      "Epoch 2. Time: 27.239, Train loss: 0.024\n",
      "Epoch 3. Time: 25.852, Train loss: 0.020\n",
      "Epoch 4. Time: 25.788, Train loss: 0.019\n",
      "Epoch 5. Time: 35.504, Train loss: 0.019\n",
      "Epoch 6. Time: 40.652, Train loss: 0.019\n",
      "Epoch 7. Time: 29.900, Train loss: 0.019\n",
      "Epoch 8. Time: 27.720, Train loss: 0.018\n",
      "Epoch 9. Time: 26.220, Train loss: 0.018\n",
      "Epoch 10. Time: 27.891, Train loss: 0.018\n",
      "Epoch 11. Time: 98.293, Train loss: 0.018\n",
      "Epoch 12. Time: 29.596, Train loss: 0.018\n",
      "Epoch 13. Time: 26.130, Train loss: 0.018\n",
      "Epoch 14. Time: 26.781, Train loss: 0.018\n",
      "Epoch 15. Time: 29.473, Train loss: 0.018\n",
      "Epoch 16. Time: 46.356, Train loss: 0.018\n",
      "Epoch 17. Time: 38.696, Train loss: 0.018\n",
      "Epoch 18. Time: 32.091, Train loss: 0.018\n",
      "Epoch 19. Time: 32.463, Train loss: 0.018\n"
     ]
    }
   ],
   "source": [
    "for epoch in range(num_epochs):\n",
    "    start = time.time()\n",
    "    train_loss = 0.\n",
    "    train_passed = 0\n",
    "    for batch_idx, (data, target) in enumerate(data_train):\n",
    "        #forward\n",
    "        predict = model(data)\n",
    "        loss = criterion(predict, target)\n",
    "        # loss.requires_grad = True\n",
    "\n",
    "        train_loss += loss.item()\n",
    "        \n",
    "        #backward\n",
    "        optimizer.zero_grad()\n",
    "        loss.backward()\n",
    "        # torch.nn.utils.clip_grad_norm_(model.parameters, max_norm=1)\n",
    "        #gradient descent or RMSProp step\n",
    "        optimizer.step()\n",
    "        train_passed += 1\n",
    "    print(\"Epoch {}. Time: {:.3f}, Train loss: {:.3f}\".format(epoch, time.time() - start, train_loss / train_passed))"
   ]
  },
  {
   "cell_type": "code",
   "execution_count": null,
   "id": "57376adf-0692-4bdd-bdbb-18ca72b312b8",
   "metadata": {},
   "outputs": [],
   "source": []
  },
  {
   "cell_type": "code",
   "execution_count": null,
   "id": "d0452bc1-52d2-452f-9294-d186fabd8d00",
   "metadata": {},
   "outputs": [],
   "source": []
  },
  {
   "cell_type": "markdown",
   "id": "c339fd67-8888-4e1b-82c1-ee756aba9c15",
   "metadata": {},
   "source": [
    "## Задача №2.\n",
    "\n",
    "1. Построить RNN-ячейку на основе полносвязных слоев\n",
    "2. Применить построенную ячейку для генерации текста с выражениями героев сериала “Симпсоны”"
   ]
  },
  {
   "cell_type": "code",
   "execution_count": null,
   "id": "4b537583-653d-4075-adde-993035f215df",
   "metadata": {},
   "outputs": [],
   "source": []
  },
  {
   "cell_type": "code",
   "execution_count": null,
   "id": "32b453b6-1b54-4f19-9d25-4ac8a3cacf74",
   "metadata": {},
   "outputs": [],
   "source": []
  }
 ],
 "metadata": {
  "kernelspec": {
   "display_name": "Python 3 (ipykernel)",
   "language": "python",
   "name": "python3"
  },
  "language_info": {
   "codemirror_mode": {
    "name": "ipython",
    "version": 3
   },
   "file_extension": ".py",
   "mimetype": "text/x-python",
   "name": "python",
   "nbconvert_exporter": "python",
   "pygments_lexer": "ipython3",
   "version": "3.9.12"
  }
 },
 "nbformat": 4,
 "nbformat_minor": 5
}
