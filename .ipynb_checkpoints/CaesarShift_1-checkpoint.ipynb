{
 "cells": [
  {
   "cell_type": "markdown",
   "id": "b1495854-44f2-4772-9cd3-6ad322c8d758",
   "metadata": {},
   "source": [
    "# Caesar shift."
   ]
  },
  {
   "cell_type": "markdown",
   "id": "b20bcf26-9487-41f4-a70c-f5d7f35fd201",
   "metadata": {},
   "source": [
    "## Задача №1.\n",
    "\n",
    "1. Написать алгоритм шифра Цезаря для генерации выборки (сдвиг на К каждой буквы. Например, при сдвиге на 2 буква “А” переходит в букву “В” и тп)\n",
    "2. Сделать нейронную сеть\n",
    "3. Обучить ее (вход - зашифрованная фраза, выход - дешифрованная фраза)\n",
    "4. Проверить качество"
   ]
  },
  {
   "cell_type": "code",
   "execution_count": 105,
   "id": "7ef45756-aeee-411a-b24e-0d66c6de356c",
   "metadata": {},
   "outputs": [],
   "source": [
    "import re\n",
    "import torch\n",
    "from tqdm import tqdm"
   ]
  },
  {
   "cell_type": "code",
   "execution_count": 7,
   "id": "ff3b6d2a-31ff-40ab-98bb-9a818a65c5be",
   "metadata": {},
   "outputs": [],
   "source": [
    "# import torchtext.utils"
   ]
  },
  {
   "cell_type": "code",
   "execution_count": 8,
   "id": "4e366cf4-e5ef-4fc0-9598-42e977734088",
   "metadata": {},
   "outputs": [],
   "source": [
    "letters = \"а б в г д е ё ж з и й к л м н о п р с т у ф х ц ч ш щ ъ ы ь э ю я\""
   ]
  },
  {
   "cell_type": "code",
   "execution_count": 9,
   "id": "7ee49da7-c6b8-4b7c-80de-a43fcc735d70",
   "metadata": {},
   "outputs": [],
   "source": [
    "indexes = [i for i in range(33)]"
   ]
  },
  {
   "cell_type": "code",
   "execution_count": 10,
   "id": "bc0d3d11-22fd-45e5-a040-a9f97b677b85",
   "metadata": {},
   "outputs": [],
   "source": [
    "alphabet = dict(zip(indexes, letters.split()))"
   ]
  },
  {
   "cell_type": "code",
   "execution_count": 11,
   "id": "f81e2d57-d33e-4de8-86c5-8ece204e439b",
   "metadata": {},
   "outputs": [],
   "source": [
    "# pattern = r'[АБВГДЕЁЖЗИЙКЛМНОПРСТУФХЦЧШЩЪЫЬЭЮЯабвгдеёжзийклмнопрстуфхцчшщъыьэюя]'\n",
    "pattern = r'[абвгдеёжзийклмнопрстуфхцчшщъыьэюя]'"
   ]
  },
  {
   "cell_type": "code",
   "execution_count": 12,
   "id": "5b804b68-9696-486c-a2fa-8db89d4d12ca",
   "metadata": {},
   "outputs": [],
   "source": [
    "# list(alphabet.values()).index('я')"
   ]
  },
  {
   "cell_type": "code",
   "execution_count": 13,
   "id": "9f82c0ac-854a-4001-8b1b-2f7ccd0757ef",
   "metadata": {},
   "outputs": [],
   "source": [
    "# def get_letter(index):\n",
    "#     return alphabet[index]"
   ]
  },
  {
   "cell_type": "code",
   "execution_count": 14,
   "id": "74aca195-0bb9-455f-84a0-7ca1bfd3d849",
   "metadata": {},
   "outputs": [],
   "source": [
    "def get_index(letter):\n",
    "    if letter in alphabet.values():\n",
    "        return list(alphabet.values()).index(letter)"
   ]
  },
  {
   "cell_type": "code",
   "execution_count": 15,
   "id": "8d80f970-569a-458d-bc56-8eee5702e4d0",
   "metadata": {},
   "outputs": [
    {
     "data": {
      "text/plain": [
       "int"
      ]
     },
     "execution_count": 15,
     "metadata": {},
     "output_type": "execute_result"
    }
   ],
   "source": [
    "type(get_index('б'))"
   ]
  },
  {
   "cell_type": "code",
   "execution_count": 16,
   "id": "437591fa-e08e-435b-b98e-ac83f18b560c",
   "metadata": {},
   "outputs": [
    {
     "data": {
      "text/plain": [
       "'п'"
      ]
     },
     "execution_count": 16,
     "metadata": {},
     "output_type": "execute_result"
    }
   ],
   "source": [
    "# Если сдвиг 5\n",
    "shift = 7\n",
    "alphabet[get_index('п')]"
   ]
  },
  {
   "cell_type": "code",
   "execution_count": 17,
   "id": "96be570f-ca23-4118-b049-753809342efb",
   "metadata": {},
   "outputs": [],
   "source": [
    "def get_new_index(alphabet_lenght, index, shift):\n",
    "    if shift >= alphabet_lenght:\n",
    "        shift = shift%alphabet_lenght\n",
    "    else:\n",
    "        pass\n",
    "    \n",
    "    if index < shift:\n",
    "        return alphabet_lenght + (index - shift%alphabet_lenght)\n",
    "    else:\n",
    "        return index - shift%alphabet_lenght"
   ]
  },
  {
   "cell_type": "code",
   "execution_count": 18,
   "id": "da93fb47-5062-4b37-8dd4-bc5435cb62d6",
   "metadata": {},
   "outputs": [],
   "source": [
    "test_string = \"Некоторые люди для запоминания количества букв в русском алфавите ассоциируют их с популярными фразами: «33 удовольствия», «33 несчастья», «33 коровы». Другие люди ассоциируют с фактами из своей жизни: живу в квартире номер 33, живу в регионе 33 (Владимирская область), играю в команде под номером 33 и подобными. И если число букв алфавита вновь забывается, то ассоциированные фразы помогают его вспомнить. Может, и вам поможет.\""
   ]
  },
  {
   "cell_type": "code",
   "execution_count": 19,
   "id": "c7673608-43eb-4721-9efe-51d08ff6aebb",
   "metadata": {},
   "outputs": [
    {
     "data": {
      "text/plain": [
       "'некоторые люди для запоминания количества букв в русском алфавите ассоциируют их с популярными фразами: «33 удовольствия», «33 несчастья», «33 коровы». другие люди ассоциируют с фактами из своей жизни: живу в квартире номер 33, живу в регионе 33 (владимирская область), играю в команде под номером 33 и подобными. и если число букв алфавита вновь забывается, то ассоциированные фразы помогают его вспомнить. может, и вам поможет.'"
      ]
     },
     "execution_count": 19,
     "metadata": {},
     "output_type": "execute_result"
    }
   ],
   "source": [
    "test_string.lower()"
   ]
  },
  {
   "cell_type": "code",
   "execution_count": 20,
   "id": "4d2e984d-e266-461f-8295-f0c21a0e0b1b",
   "metadata": {},
   "outputs": [],
   "source": [
    "new_string = []\n",
    "\n",
    "for letter in test_string.lower():\n",
    "    if letter in re.findall(pattern=pattern, string=test_string.lower()):\n",
    "        index = get_new_index(len(alphabet), get_index(letter), shift)\n",
    "        letter = alphabet[index]\n",
    "    else:\n",
    "        pass\n",
    "    new_string.append(letter)"
   ]
  },
  {
   "cell_type": "code",
   "execution_count": 49,
   "id": "6ee50c90-8550-4f93-9587-0ae0067f2d7c",
   "metadata": {},
   "outputs": [],
   "source": [
    "new_string = ''.join(new_string)"
   ]
  },
  {
   "cell_type": "code",
   "execution_count": 22,
   "id": "b88a8991-bba5-483f-b1cf-a333bddc83d4",
   "metadata": {},
   "outputs": [],
   "source": [
    "file = open('./onegin.txt', 'r')"
   ]
  },
  {
   "cell_type": "code",
   "execution_count": 23,
   "id": "003d7fb7-4be7-420b-95e3-46213cc9d917",
   "metadata": {},
   "outputs": [],
   "source": [
    "lines = file.readlines()"
   ]
  },
  {
   "cell_type": "code",
   "execution_count": 24,
   "id": "086f2e5a-3399-4979-96c5-d853de729f9f",
   "metadata": {},
   "outputs": [],
   "source": [
    "original = lines[21:].copy()\n",
    "encrypted = []"
   ]
  },
  {
   "cell_type": "code",
   "execution_count": null,
   "id": "0f43c10a-08b6-4b6a-a33a-f50bba2f3cd0",
   "metadata": {},
   "outputs": [],
   "source": []
  },
  {
   "cell_type": "code",
   "execution_count": 25,
   "id": "54336558-176f-48aa-902f-e37f6a209f07",
   "metadata": {},
   "outputs": [],
   "source": [
    "#Удаляем табуляции, знаки переноса и пробелы по краям строк. \n",
    "for item in original:\n",
    "    item.strip()"
   ]
  },
  {
   "cell_type": "code",
   "execution_count": 26,
   "id": "8ff0c15d-67d1-4545-a0a8-29f802a19e2e",
   "metadata": {},
   "outputs": [
    {
     "data": {
      "text/plain": [
       "260"
      ]
     },
     "execution_count": 26,
     "metadata": {},
     "output_type": "execute_result"
    }
   ],
   "source": [
    "max( [len(i) for i in original] )"
   ]
  },
  {
   "cell_type": "code",
   "execution_count": 27,
   "id": "130bb7a7-e89d-468d-a29c-f0d5356b6b55",
   "metadata": {},
   "outputs": [],
   "source": [
    "# Кодируем строки\n",
    "\n",
    "for item in original:\n",
    "    tmp = []\n",
    "    item.lower().strip()\n",
    "    for letter in item:\n",
    "        if letter in re.findall(pattern=pattern, string=item):\n",
    "            index = get_new_index(len(alphabet), get_index(letter), shift)\n",
    "            letter = alphabet[index]\n",
    "        else:\n",
    "            pass\n",
    "        tmp.append(letter)\n",
    "    \n",
    "    encrypted.append(''.join(tmp))"
   ]
  },
  {
   "cell_type": "code",
   "execution_count": 28,
   "id": "0a1b4a90-2b54-42a0-a43c-c63baa046cb7",
   "metadata": {},
   "outputs": [
    {
     "data": {
      "text/plain": [
       "260"
      ]
     },
     "execution_count": 28,
     "metadata": {},
     "output_type": "execute_result"
    }
   ],
   "source": [
    "max( [len(i) for i in encrypted] )"
   ]
  },
  {
   "cell_type": "code",
   "execution_count": 29,
   "id": "0a9d759a-fe41-4010-8084-a9eeb7622e01",
   "metadata": {},
   "outputs": [
    {
     "data": {
      "text/plain": [
       "(1996, 1996)"
      ]
     },
     "execution_count": 29,
     "metadata": {},
     "output_type": "execute_result"
    }
   ],
   "source": [
    "len(original), len(encrypted)"
   ]
  },
  {
   "cell_type": "code",
   "execution_count": 30,
   "id": "5c55fb78-d52a-42a7-9986-f85cecabe4aa",
   "metadata": {},
   "outputs": [],
   "source": [
    "# Разобъем данные на обучающую и тестовую выборки.\n",
    "from sklearn.model_selection import train_test_split"
   ]
  },
  {
   "cell_type": "code",
   "execution_count": 31,
   "id": "2f49a2ff-cf42-469d-bad4-53fddec566ab",
   "metadata": {},
   "outputs": [],
   "source": [
    "from sklearn.feature_extraction.text import CountVectorizer"
   ]
  },
  {
   "cell_type": "code",
   "execution_count": 32,
   "id": "007f2a7a-c7a8-4d64-9683-bfa33d793ce4",
   "metadata": {},
   "outputs": [],
   "source": [
    "X_train, X_test, y_train, y_test = train_test_split(encrypted, original, test_size=0.3, random_state=73)"
   ]
  },
  {
   "cell_type": "code",
   "execution_count": 63,
   "id": "5d654cee-91d6-4309-b2f5-1cb4b90a3a84",
   "metadata": {},
   "outputs": [],
   "source": [
    "vec = CountVectorizer(analyzer='word', ngram_range=(1,1))"
   ]
  },
  {
   "cell_type": "code",
   "execution_count": 67,
   "id": "71cc2060-bb62-4a9e-9eaa-c76805bce95d",
   "metadata": {},
   "outputs": [],
   "source": [
    "caesar_train = vec.fit_transform(X_train)\n",
    "pushkin_train = vec.fit_transform(y_train)"
   ]
  },
  {
   "cell_type": "code",
   "execution_count": 72,
   "id": "e2627cf9-ae74-43a1-a6c8-992ab1316167",
   "metadata": {},
   "outputs": [],
   "source": [
    "caesar_test = vec.fit_transform(X_test)\n",
    "pushkin_test = vec.fit_transform(y_test)"
   ]
  },
  {
   "cell_type": "code",
   "execution_count": 157,
   "id": "040b45cf-67f9-451e-83f6-9a320814d253",
   "metadata": {},
   "outputs": [
    {
     "data": {
      "text/plain": [
       "((1397, 2596), (1397, 2464))"
      ]
     },
     "execution_count": 157,
     "metadata": {},
     "output_type": "execute_result"
    }
   ],
   "source": [
    "caesar_train.get_shape(), pushkin_train.get_shape()"
   ]
  },
  {
   "cell_type": "code",
   "execution_count": 160,
   "id": "5e962d1f-8e46-408e-9cbd-7fee3e6372fc",
   "metadata": {},
   "outputs": [],
   "source": [
    "t = caesar_train.toarray()"
   ]
  },
  {
   "cell_type": "code",
   "execution_count": 161,
   "id": "443c2f12-bdd9-4925-b9d7-6a7021b1d6af",
   "metadata": {},
   "outputs": [
    {
     "data": {
      "text/plain": [
       "(1397, 2596)"
      ]
     },
     "execution_count": 161,
     "metadata": {},
     "output_type": "execute_result"
    }
   ],
   "source": [
    "t.shape"
   ]
  },
  {
   "cell_type": "code",
   "execution_count": 70,
   "id": "b4d5bf47-cd30-4390-92b7-6c53a16f227c",
   "metadata": {},
   "outputs": [],
   "source": [
    "from torch.utils.data import TensorDataset, DataLoader"
   ]
  },
  {
   "cell_type": "code",
   "execution_count": 127,
   "id": "3597f154-484a-464f-a852-6c8915878008",
   "metadata": {},
   "outputs": [],
   "source": [
    "# Два набора данных: для обучения и тестирования.\n",
    "batch_size = 32\n",
    "dataset_train = TensorDataset(torch.from_numpy(caesar_train.toarray()).float(), torch.from_numpy(pushkin_train.toarray()).float())\n",
    "dataset_test = TensorDataset(torch.from_numpy(caesar_test.toarray()).float(), torch.from_numpy(pushkin_test.toarray()).float())"
   ]
  },
  {
   "cell_type": "code",
   "execution_count": 162,
   "id": "433964b5-59b3-43be-be97-929156ed5b20",
   "metadata": {},
   "outputs": [],
   "source": [
    "# Randomly reading mini-batches\n",
    "data_train = DataLoader(dataset_train, batch_size, shuffle=True)\n",
    "data_test = DataLoader(dataset_test, batch_size)"
   ]
  },
  {
   "cell_type": "code",
   "execution_count": 167,
   "id": "61bdca55-411a-426f-a91a-b115402d5779",
   "metadata": {},
   "outputs": [
    {
     "data": {
      "text/plain": [
       "torch.Size([1397, 2464])"
      ]
     },
     "execution_count": 167,
     "metadata": {},
     "output_type": "execute_result"
    }
   ],
   "source": [
    "data_train.dataset.tensors[1].shape"
   ]
  },
  {
   "cell_type": "code",
   "execution_count": 179,
   "id": "fdfaa3ce-2671-4278-864b-d5b4d7244ea1",
   "metadata": {},
   "outputs": [],
   "source": [
    "class CaesarShift(torch.nn.Module):\n",
    "\n",
    "    def __init__(self):\n",
    "        super(CaesarShift, self).__init__()\n",
    "        \n",
    "        self.encoder = torch.nn.RNN(input_size=2596, hidden_size=128, num_layers=10, dropout = 0.5, batch_first=True)\n",
    "        \n",
    "        self.decoder = torch.nn.RNN(input_size=128, hidden_size=2464, num_layers=10, dropout = 0.5, batch_first=True)\n",
    "        \n",
    "        \n",
    "    def forward(self, x):\n",
    "        encoder, h_0 = self.encoder(x)\n",
    "        decoder = self.decoder(encoder)\n",
    "        return decoder\n",
    "\n",
    "# model\n",
    "model = CaesarShift()\n",
    "\n",
    "\n",
    "criterion = torch.nn.CrossEntropyLoss()\n",
    "optimizer = torch.optim.RMSprop(model.parameters(), lr = 0.0001)"
   ]
  },
  {
   "cell_type": "code",
   "execution_count": 180,
   "id": "40ff907a-e8fc-4546-bede-654d5236c090",
   "metadata": {},
   "outputs": [
    {
     "data": {
      "text/plain": [
       "CaesarShift(\n",
       "  (encoder): RNN(2596, 128, num_layers=10, batch_first=True, dropout=0.5)\n",
       "  (decoder): RNN(128, 2464, num_layers=10, batch_first=True, dropout=0.5)\n",
       ")"
      ]
     },
     "execution_count": 180,
     "metadata": {},
     "output_type": "execute_result"
    }
   ],
   "source": [
    "model"
   ]
  },
  {
   "cell_type": "code",
   "execution_count": 181,
   "id": "83f59131-aa3f-435b-bed4-42199f113a24",
   "metadata": {},
   "outputs": [],
   "source": [
    "# num_epochs = 20\n",
    "# for epoch in tqdm(range(num_epochs)):\n",
    "#     for X, y in data_train:\n",
    "#         # X, y = X.to(device), y.to(device)\n",
    "#         pred_y = model(X)\n",
    "#         loss = loss(pred_y, y)\n",
    "#         optimizer.zero_grad()\n",
    "#         loss.backward()\n",
    "#         optimizer.step()\n",
    "# #     # считаем loss на тренировочных данных\n",
    "# # #     loss = criterion(our_model(X_train), y_train)\n",
    "# # #     loss_per_epoch[epoch] = loss"
   ]
  },
  {
   "cell_type": "code",
   "execution_count": 182,
   "id": "3e747f7a-103c-4162-bcda-26a325da4bc4",
   "metadata": {},
   "outputs": [
    {
     "ename": "KeyboardInterrupt",
     "evalue": "",
     "output_type": "error",
     "traceback": [
      "\u001b[0;31m---------------------------------------------------------------------------\u001b[0m",
      "\u001b[0;31mKeyboardInterrupt\u001b[0m                         Traceback (most recent call last)",
      "\u001b[0;32m<ipython-input-182-55528db61dfb>\u001b[0m in \u001b[0;36m<module>\u001b[0;34m\u001b[0m\n\u001b[1;32m      7\u001b[0m         \u001b[0;31m#backward\u001b[0m\u001b[0;34m\u001b[0m\u001b[0;34m\u001b[0m\u001b[0m\n\u001b[1;32m      8\u001b[0m         \u001b[0moptimizer\u001b[0m\u001b[0;34m.\u001b[0m\u001b[0mzero_grad\u001b[0m\u001b[0;34m(\u001b[0m\u001b[0;34m)\u001b[0m\u001b[0;34m\u001b[0m\u001b[0;34m\u001b[0m\u001b[0m\n\u001b[0;32m----> 9\u001b[0;31m         \u001b[0mloss\u001b[0m\u001b[0;34m.\u001b[0m\u001b[0mbackward\u001b[0m\u001b[0;34m(\u001b[0m\u001b[0;34m)\u001b[0m\u001b[0;34m\u001b[0m\u001b[0;34m\u001b[0m\u001b[0m\n\u001b[0m\u001b[1;32m     10\u001b[0m \u001b[0;34m\u001b[0m\u001b[0m\n\u001b[1;32m     11\u001b[0m         \u001b[0;31m#gradient descent or RMSProp step\u001b[0m\u001b[0;34m\u001b[0m\u001b[0;34m\u001b[0m\u001b[0m\n",
      "\u001b[0;32m/usr/local/lib/python3.9/site-packages/torch/_tensor.py\u001b[0m in \u001b[0;36mbackward\u001b[0;34m(self, gradient, retain_graph, create_graph, inputs)\u001b[0m\n\u001b[1;32m    394\u001b[0m                 \u001b[0mtuple\u001b[0m\u001b[0;34m(\u001b[0m\u001b[0mself\u001b[0m\u001b[0;34m.\u001b[0m\u001b[0msize\u001b[0m\u001b[0;34m(\u001b[0m\u001b[0;34m)\u001b[0m\u001b[0;34m)\u001b[0m\u001b[0;34m,\u001b[0m\u001b[0;34m\u001b[0m\u001b[0;34m\u001b[0m\u001b[0m\n\u001b[1;32m    395\u001b[0m                 \u001b[0mself\u001b[0m\u001b[0;34m.\u001b[0m\u001b[0mstride\u001b[0m\u001b[0;34m(\u001b[0m\u001b[0;34m)\u001b[0m\u001b[0;34m,\u001b[0m\u001b[0;34m\u001b[0m\u001b[0;34m\u001b[0m\u001b[0m\n\u001b[0;32m--> 396\u001b[0;31m                 \u001b[0mself\u001b[0m\u001b[0;34m.\u001b[0m\u001b[0mrequires_grad\u001b[0m\u001b[0;34m,\u001b[0m\u001b[0;34m\u001b[0m\u001b[0;34m\u001b[0m\u001b[0m\n\u001b[0m\u001b[1;32m    397\u001b[0m                 \u001b[0mbackward_hooks\u001b[0m\u001b[0;34m,\u001b[0m\u001b[0;34m\u001b[0m\u001b[0;34m\u001b[0m\u001b[0m\n\u001b[1;32m    398\u001b[0m             )  # previously was self._backward_hooks\n",
      "\u001b[0;32m/usr/local/lib/python3.9/site-packages/torch/autograd/__init__.py\u001b[0m in \u001b[0;36mbackward\u001b[0;34m(tensors, grad_tensors, retain_graph, create_graph, grad_variables, inputs)\u001b[0m\n\u001b[1;32m    171\u001b[0m             \u001b[0;34m\"supported, please use functorch.grad or functorch.vjp instead \"\u001b[0m\u001b[0;34m\u001b[0m\u001b[0;34m\u001b[0m\u001b[0m\n\u001b[1;32m    172\u001b[0m             \"or call backward() outside of functorch transforms.\")\n\u001b[0;32m--> 173\u001b[0;31m \u001b[0;34m\u001b[0m\u001b[0m\n\u001b[0m\u001b[1;32m    174\u001b[0m     \u001b[0;32mif\u001b[0m \u001b[0mgrad_variables\u001b[0m \u001b[0;32mis\u001b[0m \u001b[0;32mnot\u001b[0m \u001b[0;32mNone\u001b[0m\u001b[0;34m:\u001b[0m\u001b[0;34m\u001b[0m\u001b[0;34m\u001b[0m\u001b[0m\n\u001b[1;32m    175\u001b[0m         \u001b[0mwarnings\u001b[0m\u001b[0;34m.\u001b[0m\u001b[0mwarn\u001b[0m\u001b[0;34m(\u001b[0m\u001b[0;34m\"'grad_variables' is deprecated. Use 'grad_tensors' instead.\"\u001b[0m\u001b[0;34m)\u001b[0m\u001b[0;34m\u001b[0m\u001b[0;34m\u001b[0m\u001b[0m\n",
      "\u001b[0;31mKeyboardInterrupt\u001b[0m: "
     ]
    }
   ],
   "source": [
    "for epoch in range(num_epochs):\n",
    "    for batch_idx, (data, target) in enumerate(data_train):\n",
    "        #forward\n",
    "        predict, _ = model(data)\n",
    "        loss = criterion(predict, target)\n",
    "        \n",
    "        #backward\n",
    "        optimizer.zero_grad()\n",
    "        loss.backward()\n",
    "        \n",
    "        #gradient descent or RMSProp step\n",
    "        optimizer.step()"
   ]
  },
  {
   "cell_type": "code",
   "execution_count": null,
   "id": "29bb21d0-c7ca-4c63-a4b6-5eb77135fc98",
   "metadata": {},
   "outputs": [],
   "source": []
  },
  {
   "cell_type": "code",
   "execution_count": null,
   "id": "37834139-9ad6-44b3-8f12-ea5e334948ef",
   "metadata": {},
   "outputs": [],
   "source": []
  },
  {
   "cell_type": "markdown",
   "id": "c339fd67-8888-4e1b-82c1-ee756aba9c15",
   "metadata": {},
   "source": [
    "## Задача №2.\n",
    "\n",
    "1. Построить RNN-ячейку на основе полносвязных слоев\n",
    "2. Применить построенную ячейку для генерации текста с выражениями героев сериала “Симпсоны”"
   ]
  },
  {
   "cell_type": "code",
   "execution_count": null,
   "id": "4b537583-653d-4075-adde-993035f215df",
   "metadata": {},
   "outputs": [],
   "source": []
  },
  {
   "cell_type": "code",
   "execution_count": null,
   "id": "32b453b6-1b54-4f19-9d25-4ac8a3cacf74",
   "metadata": {},
   "outputs": [],
   "source": []
  }
 ],
 "metadata": {
  "kernelspec": {
   "display_name": "Python 3 (ipykernel)",
   "language": "python",
   "name": "python3"
  },
  "language_info": {
   "codemirror_mode": {
    "name": "ipython",
    "version": 3
   },
   "file_extension": ".py",
   "mimetype": "text/x-python",
   "name": "python",
   "nbconvert_exporter": "python",
   "pygments_lexer": "ipython3",
   "version": "3.9.12"
  }
 },
 "nbformat": 4,
 "nbformat_minor": 5
}
