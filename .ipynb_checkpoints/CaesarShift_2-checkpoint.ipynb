{
 "cells": [
  {
   "cell_type": "markdown",
   "id": "b1495854-44f2-4772-9cd3-6ad322c8d758",
   "metadata": {},
   "source": [
    "# Caesar shift."
   ]
  },
  {
   "cell_type": "markdown",
   "id": "b20bcf26-9487-41f4-a70c-f5d7f35fd201",
   "metadata": {},
   "source": [
    "## Задача №1.\n",
    "\n",
    "1. Написать алгоритм шифра Цезаря для генерации выборки (сдвиг на К каждой буквы. Например, при сдвиге на 2 буква “А” переходит в букву “В” и тп)\n",
    "2. Сделать нейронную сеть\n",
    "3. Обучить ее (вход - зашифрованная фраза, выход - дешифрованная фраза)\n",
    "4. Проверить качество"
   ]
  },
  {
   "cell_type": "code",
   "execution_count": 201,
   "id": "7ef45756-aeee-411a-b24e-0d66c6de356c",
   "metadata": {},
   "outputs": [],
   "source": [
    "import numpy as np\n",
    "import re\n",
    "import torch\n",
    "import time\n",
    "from tqdm import tqdm"
   ]
  },
  {
   "cell_type": "code",
   "execution_count": 2,
   "id": "ff3b6d2a-31ff-40ab-98bb-9a818a65c5be",
   "metadata": {},
   "outputs": [],
   "source": [
    "# import torchtext.utils"
   ]
  },
  {
   "cell_type": "code",
   "execution_count": 3,
   "id": "4e366cf4-e5ef-4fc0-9598-42e977734088",
   "metadata": {},
   "outputs": [],
   "source": [
    "letters = \"а б в г д е ё ж з и й к л м н о п р с т у ф х ц ч ш щ ъ ы ь э ю я\""
   ]
  },
  {
   "cell_type": "code",
   "execution_count": 4,
   "id": "7ee49da7-c6b8-4b7c-80de-a43fcc735d70",
   "metadata": {},
   "outputs": [],
   "source": [
    "indexes = [i for i in range(33)]"
   ]
  },
  {
   "cell_type": "code",
   "execution_count": 5,
   "id": "bc0d3d11-22fd-45e5-a040-a9f97b677b85",
   "metadata": {},
   "outputs": [],
   "source": [
    "alphabet = dict(zip(indexes, letters.split()))"
   ]
  },
  {
   "cell_type": "code",
   "execution_count": 6,
   "id": "baf7025b-8112-4833-9da2-1a8bc6f6a8a1",
   "metadata": {},
   "outputs": [
    {
     "data": {
      "text/plain": [
       "{0: 'а',\n",
       " 1: 'б',\n",
       " 2: 'в',\n",
       " 3: 'г',\n",
       " 4: 'д',\n",
       " 5: 'е',\n",
       " 6: 'ё',\n",
       " 7: 'ж',\n",
       " 8: 'з',\n",
       " 9: 'и',\n",
       " 10: 'й',\n",
       " 11: 'к',\n",
       " 12: 'л',\n",
       " 13: 'м',\n",
       " 14: 'н',\n",
       " 15: 'о',\n",
       " 16: 'п',\n",
       " 17: 'р',\n",
       " 18: 'с',\n",
       " 19: 'т',\n",
       " 20: 'у',\n",
       " 21: 'ф',\n",
       " 22: 'х',\n",
       " 23: 'ц',\n",
       " 24: 'ч',\n",
       " 25: 'ш',\n",
       " 26: 'щ',\n",
       " 27: 'ъ',\n",
       " 28: 'ы',\n",
       " 29: 'ь',\n",
       " 30: 'э',\n",
       " 31: 'ю',\n",
       " 32: 'я'}"
      ]
     },
     "execution_count": 6,
     "metadata": {},
     "output_type": "execute_result"
    }
   ],
   "source": [
    "alphabet"
   ]
  },
  {
   "cell_type": "code",
   "execution_count": null,
   "id": "3d55ac15-95a7-4b8a-a549-2c6d82339f1d",
   "metadata": {},
   "outputs": [],
   "source": []
  },
  {
   "cell_type": "code",
   "execution_count": 7,
   "id": "f81e2d57-d33e-4de8-86c5-8ece204e439b",
   "metadata": {},
   "outputs": [],
   "source": [
    "# pattern = r'[АБВГДЕЁЖЗИЙКЛМНОПРСТУФХЦЧШЩЪЫЬЭЮЯабвгдеёжзийклмнопрстуфхцчшщъыьэюя]'\n",
    "pattern_1 = r'[абвгдеёжзийклмнопрстуфхцчшщъыьэюя]'\n",
    "# pattern_2 = r'[^абвгдеёжзийклмнопрстуфхцчшщъыьэюя0-9 ]'\n",
    "pattern_2 = r'[^абвгдеёжзийклмнопрстуфхцчшщъыьэюя ]'"
   ]
  },
  {
   "cell_type": "code",
   "execution_count": 8,
   "id": "5b804b68-9696-486c-a2fa-8db89d4d12ca",
   "metadata": {},
   "outputs": [],
   "source": [
    "# list(alphabet.values()).index('я')"
   ]
  },
  {
   "cell_type": "code",
   "execution_count": 9,
   "id": "9f82c0ac-854a-4001-8b1b-2f7ccd0757ef",
   "metadata": {},
   "outputs": [],
   "source": [
    "# def get_letter(index):\n",
    "#     return alphabet[index]"
   ]
  },
  {
   "cell_type": "code",
   "execution_count": 10,
   "id": "74aca195-0bb9-455f-84a0-7ca1bfd3d849",
   "metadata": {},
   "outputs": [],
   "source": [
    "def get_index(letter):\n",
    "    if letter in alphabet.values():\n",
    "        return list(alphabet.values()).index(letter)"
   ]
  },
  {
   "cell_type": "code",
   "execution_count": 11,
   "id": "437591fa-e08e-435b-b98e-ac83f18b560c",
   "metadata": {},
   "outputs": [
    {
     "data": {
      "text/plain": [
       "'п'"
      ]
     },
     "execution_count": 11,
     "metadata": {},
     "output_type": "execute_result"
    }
   ],
   "source": [
    "# Если сдвиг 5\n",
    "shift = 8\n",
    "alphabet[get_index('п')]"
   ]
  },
  {
   "cell_type": "code",
   "execution_count": 12,
   "id": "96be570f-ca23-4118-b049-753809342efb",
   "metadata": {},
   "outputs": [],
   "source": [
    "# Функция вычисляет новый индекс в зависимости от величины сдвига.\n",
    "def get_new_index(alphabet_lenght, index, shift):\n",
    "    if shift >= alphabet_lenght:\n",
    "        shift = shift%alphabet_lenght\n",
    "    else:\n",
    "        pass\n",
    "    \n",
    "    if index < shift:\n",
    "        return alphabet_lenght + (index - shift%alphabet_lenght)\n",
    "    else:\n",
    "        return index - shift%alphabet_lenght"
   ]
  },
  {
   "cell_type": "code",
   "execution_count": 13,
   "id": "da93fb47-5062-4b37-8dd4-bc5435cb62d6",
   "metadata": {},
   "outputs": [],
   "source": [
    "test_string = \"Некоторые люди для запоминания количества букв в русском алфавите ассоциируют их с популярными фразами: «33 удовольствия», «33 несчастья», «33 коровы». Другие люди ассоциируют с фактами из своей жизни: живу в квартире номер 33, живу в регионе 33 (Владимирская область), играю в команде под номером 33 и подобными. И если число букв алфавита вновь забывается, то ассоциированные фразы помогают его вспомнить. Может, и вам поможет.\""
   ]
  },
  {
   "cell_type": "code",
   "execution_count": 14,
   "id": "c7673608-43eb-4721-9efe-51d08ff6aebb",
   "metadata": {},
   "outputs": [
    {
     "data": {
      "text/plain": [
       "'некоторые люди для запоминания количества букв в русском алфавите ассоциируют их с популярными фразами: «33 удовольствия», «33 несчастья», «33 коровы». другие люди ассоциируют с фактами из своей жизни: живу в квартире номер 33, живу в регионе 33 (владимирская область), играю в команде под номером 33 и подобными. и если число букв алфавита вновь забывается, то ассоциированные фразы помогают его вспомнить. может, и вам поможет.'"
      ]
     },
     "execution_count": 14,
     "metadata": {},
     "output_type": "execute_result"
    }
   ],
   "source": [
    "test_string.lower()"
   ]
  },
  {
   "cell_type": "code",
   "execution_count": 15,
   "id": "4d2e984d-e266-461f-8295-f0c21a0e0b1b",
   "metadata": {},
   "outputs": [],
   "source": [
    "# Кодируем строку текста шифором Цезаря.\n",
    "def encoder_to_caesarshift(pattern, alphabet, shift, string):\n",
    "    encoder_string = []\n",
    "    for letter in string.lower():\n",
    "        if letter in alphabet.values():\n",
    "            index = get_new_index(len(alphabet), get_index(letter), shift)\n",
    "            letter = alphabet[index]\n",
    "        else:\n",
    "            pass\n",
    "        encoder_string.append(letter)\n",
    "    return ''.join(encoder_string)"
   ]
  },
  {
   "cell_type": "code",
   "execution_count": 16,
   "id": "6ee50c90-8550-4f93-9587-0ae0067f2d7c",
   "metadata": {},
   "outputs": [
    {
     "data": {
      "text/plain": [
       "'йбжкокмчб зъае азы дьлкиейьйеы жкзеубноюь эпжю ю мпннжки ьзрьюеоб ьннктеемпъо ес н лклпзымйчие рмьдьие: «33 пакюкзшноюеы», «33 йбнуьношы», «33 жкмкюч». ампяеб зъае ьннктеемпъо н рьжоьие ед нюкбё гедйе: геюп ю жюьмоемб йкибм 33, геюп ю мбяекйб 33 (юзьаеиемнжьы кэзьнош), еямьъ ю жкиьйаб лка йкибмки 33 е лкакэйчие. е бнзе уензк эпжю ьзрьюеоь юйкюш дьэчюьбоны, ок ьннктеемкюьййчб рмьдч лкикяьъо бяк юнлкийеош. икгбо, е юьи лкикгбо.'"
      ]
     },
     "execution_count": 16,
     "metadata": {},
     "output_type": "execute_result"
    }
   ],
   "source": [
    "encoder_to_caesarshift(pattern_1, alphabet, 4, test_string)"
   ]
  },
  {
   "cell_type": "code",
   "execution_count": null,
   "id": "9c3d29f9-80ae-4b5b-b886-a6772fc44cd4",
   "metadata": {},
   "outputs": [],
   "source": []
  },
  {
   "cell_type": "markdown",
   "id": "30385ba0-4344-4989-b8b5-791997896d5b",
   "metadata": {},
   "source": [
    "## Загружаем \"Евгений Онегин\"."
   ]
  },
  {
   "cell_type": "code",
   "execution_count": 17,
   "id": "b88a8991-bba5-483f-b1cf-a333bddc83d4",
   "metadata": {},
   "outputs": [],
   "source": [
    "file = open('./onegin.txt', 'r')"
   ]
  },
  {
   "cell_type": "code",
   "execution_count": 18,
   "id": "003d7fb7-4be7-420b-95e3-46213cc9d917",
   "metadata": {},
   "outputs": [],
   "source": [
    "documents_original = file.readlines()"
   ]
  },
  {
   "cell_type": "code",
   "execution_count": 19,
   "id": "63b08476-52e6-452b-84f0-6f5185361468",
   "metadata": {},
   "outputs": [],
   "source": [
    "#Шифруем\n",
    "documents_encoded = []\n",
    "for line in documents_original:\n",
    "    documents_encoded.append(encoder_to_caesarshift(pattern_1, alphabet, 7, line))"
   ]
  },
  {
   "cell_type": "code",
   "execution_count": null,
   "id": "8bd5a07c-d6d0-48a2-9e88-276510d74b14",
   "metadata": {},
   "outputs": [],
   "source": []
  },
  {
   "cell_type": "code",
   "execution_count": 20,
   "id": "22ac93f9-05a5-4866-ab44-ccb6b37dc05c",
   "metadata": {},
   "outputs": [],
   "source": [
    "original = []\n",
    "encoded = []"
   ]
  },
  {
   "cell_type": "code",
   "execution_count": null,
   "id": "81d3e578-30f6-42ea-b4ca-1043c11b77dd",
   "metadata": {},
   "outputs": [],
   "source": []
  },
  {
   "cell_type": "code",
   "execution_count": 21,
   "id": "086f2e5a-3399-4979-96c5-d853de729f9f",
   "metadata": {},
   "outputs": [],
   "source": [
    "# original = lines[21:].copy()"
   ]
  },
  {
   "cell_type": "code",
   "execution_count": 22,
   "id": "0f43c10a-08b6-4b6a-a33a-f50bba2f3cd0",
   "metadata": {},
   "outputs": [],
   "source": [
    "# text = ''.join(lines).lower()\n",
    "# text = re.sub(pattern_2, \"\", ''.join(lines).lower())"
   ]
  },
  {
   "cell_type": "code",
   "execution_count": 23,
   "id": "36753784-71c4-4cbd-875f-71acc73ff16b",
   "metadata": {},
   "outputs": [],
   "source": [
    "#Делаем список-списков\n",
    "for line in documents_original:\n",
    "    original.append(line.split())\n",
    "\n",
    "for line in documents_encoded:\n",
    "    encoded.append(line.split())"
   ]
  },
  {
   "cell_type": "code",
   "execution_count": null,
   "id": "f5313bbe-8a97-4aa5-ab31-b7e834ba3d25",
   "metadata": {},
   "outputs": [],
   "source": []
  },
  {
   "cell_type": "code",
   "execution_count": null,
   "id": "181d93a0-7308-4a95-8000-98494f3a610d",
   "metadata": {},
   "outputs": [],
   "source": []
  },
  {
   "cell_type": "code",
   "execution_count": 24,
   "id": "54336558-176f-48aa-902f-e37f6a209f07",
   "metadata": {},
   "outputs": [],
   "source": [
    "# #Удаляем табуляции, знаки переноса и пробелы по краям строк. \n",
    "# for i, item in enumerate(original):\n",
    "#     original[i] = re.sub(pattern_2, \"\", item)"
   ]
  },
  {
   "cell_type": "code",
   "execution_count": 25,
   "id": "0a9d759a-fe41-4010-8084-a9eeb7622e01",
   "metadata": {},
   "outputs": [
    {
     "data": {
      "text/plain": [
       "(2017, 2017)"
      ]
     },
     "execution_count": 25,
     "metadata": {},
     "output_type": "execute_result"
    }
   ],
   "source": [
    "len(original), len(encoded)"
   ]
  },
  {
   "cell_type": "code",
   "execution_count": 26,
   "id": "94dd990e-d894-498f-8bc3-c661c684200f",
   "metadata": {},
   "outputs": [],
   "source": [
    "# def set_tensor(tensor, string):\n",
    "#     for i, letter in enumerate(string):\n",
    "#         if letter in re.findall(pattern=pattern, string=string):\n",
    "#             index = get_index(letter)\n",
    "#             T[i] = index\n",
    "#         else:\n",
    "#             pass"
   ]
  },
  {
   "cell_type": "code",
   "execution_count": 27,
   "id": "1c287eba-f932-4d10-af03-43f5416b294d",
   "metadata": {},
   "outputs": [],
   "source": [
    "# # MAX_LEN = max( [len(i) for i in encrypted] )\n",
    "# LEARN = len(encrypted)\n",
    "\n",
    "# def get_tensor(learn, max_len, document):\n",
    "#     T = torch.zeros((LEARN, MAX_LEN), dtype=int)\n",
    "#     for i, item in enumerate(document):\n",
    "#         for j, letter in enumerate(item):\n",
    "#             if letter in re.findall(pattern=pattern_1, string=item):\n",
    "#                 index = get_index(letter)\n",
    "#                 T[i, j] = index\n",
    "#             else:\n",
    "#                 pass\n",
    "#     return T"
   ]
  },
  {
   "cell_type": "code",
   "execution_count": 28,
   "id": "5c55fb78-d52a-42a7-9986-f85cecabe4aa",
   "metadata": {},
   "outputs": [],
   "source": [
    "# Разобъем данные на обучающую и тестовую выборки.\n",
    "from sklearn.model_selection import train_test_split"
   ]
  },
  {
   "cell_type": "code",
   "execution_count": 29,
   "id": "2f49a2ff-cf42-469d-bad4-53fddec566ab",
   "metadata": {},
   "outputs": [],
   "source": [
    "from sklearn.feature_extraction.text import CountVectorizer"
   ]
  },
  {
   "cell_type": "code",
   "execution_count": 30,
   "id": "007f2a7a-c7a8-4d64-9683-bfa33d793ce4",
   "metadata": {},
   "outputs": [],
   "source": [
    "# X_train, X_test, y_train, y_test = train_test_split(E, O, test_size=0.3, random_state=73)"
   ]
  },
  {
   "cell_type": "code",
   "execution_count": 31,
   "id": "5d654cee-91d6-4309-b2f5-1cb4b90a3a84",
   "metadata": {},
   "outputs": [],
   "source": [
    "vec_original = CountVectorizer(analyzer='word', ngram_range=(1,1))\n",
    "vec_encoded = CountVectorizer(analyzer='word', ngram_range=(1,1))"
   ]
  },
  {
   "cell_type": "code",
   "execution_count": 32,
   "id": "71cc2060-bb62-4a9e-9eaa-c76805bce95d",
   "metadata": {},
   "outputs": [],
   "source": [
    "caesar = vec_encoded.fit_transform(documents_encoded)\n",
    "pushkin = vec_original.fit_transform(documents_original)"
   ]
  },
  {
   "cell_type": "code",
   "execution_count": 33,
   "id": "e8a57382-55ee-4196-a8ca-6d6aed45fe22",
   "metadata": {},
   "outputs": [],
   "source": [
    "MAX_VEC_LEN = max( [len(i) for i in original] )"
   ]
  },
  {
   "cell_type": "code",
   "execution_count": 34,
   "id": "e13db164-28fd-49c7-a38b-a7535eec0081",
   "metadata": {},
   "outputs": [
    {
     "data": {
      "text/plain": [
       "51"
      ]
     },
     "execution_count": 34,
     "metadata": {},
     "output_type": "execute_result"
    }
   ],
   "source": [
    "MAX_VEC_LEN"
   ]
  },
  {
   "cell_type": "code",
   "execution_count": 305,
   "id": "e53276a4-d9a7-4cc3-8ae8-6a2bd12f7384",
   "metadata": {},
   "outputs": [],
   "source": [
    "MAX_VEC_LEN = max( [len(i) for i in original] )\n",
    "LEARN = len(original)\n",
    "\n",
    "def get_tensor_by_word(vector, learn, max_vec_len, document):\n",
    "    T = torch.zeros((LEARN, MAX_VEC_LEN), dtype=torch.long)\n",
    "    for i, item in enumerate(document):\n",
    "        for j, word in enumerate(item):\n",
    "            if word in vector.vocabulary_.keys():\n",
    "                index = vector.vocabulary_[word]\n",
    "                T[i, j] = index\n",
    "            else:\n",
    "                pass\n",
    "    return T"
   ]
  },
  {
   "cell_type": "code",
   "execution_count": 306,
   "id": "f3abd44a-5bd2-4246-8b6a-c6dd716b9623",
   "metadata": {},
   "outputs": [],
   "source": [
    "Orgn = get_tensor_by_word(vec_original, LEARN, MAX_VEC_LEN, original)\n",
    "Encd = get_tensor_by_word(vec_encoded, LEARN, MAX_VEC_LEN, encoded)"
   ]
  },
  {
   "cell_type": "code",
   "execution_count": null,
   "id": "b50528d8-2937-4f27-a817-06d39d1dd3a3",
   "metadata": {},
   "outputs": [],
   "source": []
  },
  {
   "cell_type": "code",
   "execution_count": 308,
   "id": "46c994f8-720a-48df-ba7c-fe8ae30be9a7",
   "metadata": {},
   "outputs": [
    {
     "data": {
      "text/plain": [
       "(2017, 3369)"
      ]
     },
     "execution_count": 308,
     "metadata": {},
     "output_type": "execute_result"
    }
   ],
   "source": [
    "pushkin.toarray().shape"
   ]
  },
  {
   "cell_type": "code",
   "execution_count": 309,
   "id": "b4d5bf47-cd30-4390-92b7-6c53a16f227c",
   "metadata": {},
   "outputs": [],
   "source": [
    "from torch.utils.data import TensorDataset, DataLoader"
   ]
  },
  {
   "cell_type": "code",
   "execution_count": 310,
   "id": "3597f154-484a-464f-a852-6c8915878008",
   "metadata": {},
   "outputs": [],
   "source": [
    "# Два набора данных: для обучения и тестирования.\n",
    "batch_size = 32\n",
    "dataset_train = TensorDataset(Encd, Orgn)\n",
    "# dataset_train = TensorDataset(X_train, y_train)\n",
    "# dataset_test = TensorDataset(X_test, y_test)"
   ]
  },
  {
   "cell_type": "code",
   "execution_count": 311,
   "id": "433964b5-59b3-43be-be97-929156ed5b20",
   "metadata": {},
   "outputs": [],
   "source": [
    "# Randomly reading mini-batches\n",
    "data_train = DataLoader(dataset_train, batch_size, shuffle=True)\n",
    "# data_train = DataLoader(dataset_train, shuffle=True)\n",
    "# data_test = DataLoader(dataset_test, batch_size)"
   ]
  },
  {
   "cell_type": "code",
   "execution_count": 312,
   "id": "a767999a-7ace-4a45-b5aa-8fe1340dff43",
   "metadata": {},
   "outputs": [
    {
     "data": {
      "text/plain": [
       "(torch.Size([2017, 51]), torch.Size([2017, 51]))"
      ]
     },
     "execution_count": 312,
     "metadata": {},
     "output_type": "execute_result"
    }
   ],
   "source": [
    "data_train.dataset.tensors[0].shape, data_train.dataset.tensors[1].shape"
   ]
  },
  {
   "cell_type": "code",
   "execution_count": 313,
   "id": "2ecd5a4d-3c94-463c-95fc-37f28dc88afb",
   "metadata": {},
   "outputs": [],
   "source": [
    "emb = torch.nn.Embedding(num_embeddings=3369, embedding_dim=51)"
   ]
  },
  {
   "cell_type": "code",
   "execution_count": 314,
   "id": "92100f8a-325c-4122-8088-2eeaed3b5228",
   "metadata": {},
   "outputs": [],
   "source": [
    "tmp = emb(Encd)"
   ]
  },
  {
   "cell_type": "code",
   "execution_count": 315,
   "id": "c49eb9e7-9af3-4977-9755-6d4f6d3a3bc0",
   "metadata": {},
   "outputs": [],
   "source": [
    "rnn = torch.nn.RNN(input_size=51, hidden_size=33, num_layers=3, nonlinearity='tanh')"
   ]
  },
  {
   "cell_type": "code",
   "execution_count": 316,
   "id": "cf5ffa20-245c-4083-8418-f8329d1c715d",
   "metadata": {},
   "outputs": [],
   "source": [
    "x1, x2 = rnn(tmp)"
   ]
  },
  {
   "cell_type": "code",
   "execution_count": 317,
   "id": "79f49f1a-2d96-4e33-9ca6-923f66eec7fc",
   "metadata": {},
   "outputs": [
    {
     "data": {
      "text/plain": [
       "(torch.Size([2017, 51, 33]), torch.Size([3, 51, 33]))"
      ]
     },
     "execution_count": 317,
     "metadata": {},
     "output_type": "execute_result"
    }
   ],
   "source": [
    "x1.shape, x2.shape"
   ]
  },
  {
   "cell_type": "code",
   "execution_count": 318,
   "id": "504c4979-f61c-4854-9d06-5ec9af7afe31",
   "metadata": {},
   "outputs": [
    {
     "data": {
      "text/plain": [
       "torch.Size([2017, 1683])"
      ]
     },
     "execution_count": 318,
     "metadata": {},
     "output_type": "execute_result"
    }
   ],
   "source": [
    "x1.view(x1.size(0), -1).shape"
   ]
  },
  {
   "cell_type": "code",
   "execution_count": 319,
   "id": "c0e37ea6-f56d-4523-941a-1a59af874ead",
   "metadata": {},
   "outputs": [],
   "source": [
    "linear = torch.nn.Linear(33, 3369, bias=True)"
   ]
  },
  {
   "cell_type": "code",
   "execution_count": 320,
   "id": "5d18552b-c30d-45ff-8c72-e9c1128b032f",
   "metadata": {},
   "outputs": [],
   "source": [
    "y = linear(x1)"
   ]
  },
  {
   "cell_type": "code",
   "execution_count": 327,
   "id": "3a0fb15f-b5ba-47fb-851d-9fd162d2f815",
   "metadata": {},
   "outputs": [],
   "source": [
    "y2 = torch.argmax(y, dim=2)"
   ]
  },
  {
   "cell_type": "code",
   "execution_count": null,
   "id": "dd8324be-1b49-4c0f-b529-a07ed86ad8e2",
   "metadata": {},
   "outputs": [],
   "source": []
  },
  {
   "cell_type": "code",
   "execution_count": 330,
   "id": "66870470-b8b3-4eb6-b7d3-2c270c46e881",
   "metadata": {},
   "outputs": [
    {
     "data": {
      "text/plain": [
       "tensor([ 600,  458,  329, 1207,  347, 1794,  148,   17,   19, 1955,   19,    6,\n",
       "           1, 1969, 1968,    1,   19,    1,   17,   19,   19, 1968,    1,    6,\n",
       "           1, 1958,   19,   18,   17,    1,    5,    5,    1,    1,    1,    1,\n",
       "          20,    1,    6,    1,    1,    1,    1,    1,    1,    1,    1,    1,\n",
       "           1,    1,    1])"
      ]
     },
     "execution_count": 330,
     "metadata": {},
     "output_type": "execute_result"
    }
   ],
   "source": [
    "torch.argmax(y2, dim=0)"
   ]
  },
  {
   "cell_type": "code",
   "execution_count": 331,
   "id": "2f30bd58-e1ae-4f8e-a784-7efe962818cf",
   "metadata": {},
   "outputs": [
    {
     "data": {
      "text/plain": [
       "(torch.Size([2017, 51]), torch.Size([2017, 51]))"
      ]
     },
     "execution_count": 331,
     "metadata": {},
     "output_type": "execute_result"
    }
   ],
   "source": [
    "Orgn.shape, y2.shape"
   ]
  },
  {
   "cell_type": "code",
   "execution_count": 344,
   "id": "0a00611c-5114-449d-9292-133b88138ec6",
   "metadata": {},
   "outputs": [
    {
     "data": {
      "text/plain": [
       "tensor(1903157.5000)"
      ]
     },
     "execution_count": 344,
     "metadata": {},
     "output_type": "execute_result"
    }
   ],
   "source": [
    "L = torch.nn.CrossEntropyLoss()\n",
    "L(y2.float(), Orgn.float())"
   ]
  },
  {
   "cell_type": "code",
   "execution_count": 102,
   "id": "3c79c476-742d-4773-a1e9-63c12263f02c",
   "metadata": {},
   "outputs": [
    {
     "data": {
      "text/plain": [
       "(3369, 3369)"
      ]
     },
     "execution_count": 102,
     "metadata": {},
     "output_type": "execute_result"
    }
   ],
   "source": [
    "len(vec_encoded.vocabulary_), len(vec_original.vocabulary_)"
   ]
  },
  {
   "cell_type": "code",
   "execution_count": 221,
   "id": "fdfaa3ce-2671-4278-864b-d5b4d7244ea1",
   "metadata": {},
   "outputs": [],
   "source": [
    "class CaesarShift(torch.nn.Module):\n",
    "\n",
    "    def __init__(self):\n",
    "        super(CaesarShift, self).__init__()\n",
    "        \n",
    "        self.embedings = torch.nn.Embedding(num_embeddings=3369, embedding_dim=51)\n",
    "        self.rnn = torch.nn.RNN(input_size=51, hidden_size=51, num_layers=1, batch_first=True)\n",
    "        # self.fc = torch.nn.Softmax(dim=1)\n",
    "        # self.fc = torch.nn.Linear(51, 51)\n",
    "        \n",
    "    def forward(self, x):\n",
    "        x = self.embedings(x)\n",
    "        x, h_0 = self.rnn(x)\n",
    "        # x = x.view(x.size(0), -1)\n",
    "        out = torch.argmax(x, dim=2)\n",
    "        return out\n",
    "\n",
    "# model\n",
    "model = CaesarShift()\n",
    "\n",
    "\n",
    "# criterion = torch.nn.CrossEntropyLoss()\n",
    "criterion = torch.nn.NLLLoss()\n",
    "optimizer = torch.optim.Adam(model.parameters(), lr = 0.0001)"
   ]
  },
  {
   "cell_type": "code",
   "execution_count": 222,
   "id": "40ff907a-e8fc-4546-bede-654d5236c090",
   "metadata": {},
   "outputs": [
    {
     "data": {
      "text/plain": [
       "CaesarShift(\n",
       "  (embedings): Embedding(3369, 51)\n",
       "  (rnn): RNN(51, 51, batch_first=True)\n",
       ")"
      ]
     },
     "execution_count": 222,
     "metadata": {},
     "output_type": "execute_result"
    }
   ],
   "source": [
    "model"
   ]
  },
  {
   "cell_type": "code",
   "execution_count": 223,
   "id": "49372cb6-4c9a-49a2-ac22-d379f937aa70",
   "metadata": {},
   "outputs": [
    {
     "data": {
      "text/plain": [
       "CaesarShift(\n",
       "  (embedings): Embedding(3369, 51)\n",
       "  (rnn): RNN(51, 51, batch_first=True)\n",
       ")"
      ]
     },
     "execution_count": 223,
     "metadata": {},
     "output_type": "execute_result"
    }
   ],
   "source": [
    "model"
   ]
  },
  {
   "cell_type": "code",
   "execution_count": 224,
   "id": "83f59131-aa3f-435b-bed4-42199f113a24",
   "metadata": {},
   "outputs": [],
   "source": [
    "num_epochs = 20"
   ]
  },
  {
   "cell_type": "code",
   "execution_count": null,
   "id": "13e8a69c-2897-4bff-ac86-4fd01690c0ae",
   "metadata": {},
   "outputs": [],
   "source": []
  },
  {
   "cell_type": "code",
   "execution_count": 225,
   "id": "3e747f7a-103c-4162-bcda-26a325da4bc4",
   "metadata": {},
   "outputs": [
    {
     "name": "stdout",
     "output_type": "stream",
     "text": [
      "torch.Size([32, 51]) torch.Size([32, 51])\n",
      "torch.Size([32, 51])\n"
     ]
    },
    {
     "ename": "RuntimeError",
     "evalue": "0D or 1D target tensor expected, multi-target not supported",
     "output_type": "error",
     "traceback": [
      "\u001b[0;31m---------------------------------------------------------------------------\u001b[0m",
      "\u001b[0;31mRuntimeError\u001b[0m                              Traceback (most recent call last)",
      "Cell \u001b[0;32mIn [225], line 11\u001b[0m\n\u001b[1;32m      9\u001b[0m predict \u001b[38;5;241m=\u001b[39m model(data)\n\u001b[1;32m     10\u001b[0m \u001b[38;5;28mprint\u001b[39m(predict\u001b[38;5;241m.\u001b[39mshape)\n\u001b[0;32m---> 11\u001b[0m loss \u001b[38;5;241m=\u001b[39m \u001b[43mcriterion\u001b[49m\u001b[43m(\u001b[49m\u001b[43mpredict\u001b[49m\u001b[43m,\u001b[49m\u001b[43m \u001b[49m\u001b[43mtarget\u001b[49m\u001b[43m)\u001b[49m\n\u001b[1;32m     12\u001b[0m train_loss \u001b[38;5;241m+\u001b[39m\u001b[38;5;241m=\u001b[39m loss\u001b[38;5;241m.\u001b[39mitem()\n\u001b[1;32m     14\u001b[0m \u001b[38;5;66;03m#backward\u001b[39;00m\n",
      "File \u001b[0;32m/usr/local/lib/python3.9/site-packages/torch/nn/modules/module.py:1190\u001b[0m, in \u001b[0;36mModule._call_impl\u001b[0;34m(self, *input, **kwargs)\u001b[0m\n\u001b[1;32m   1186\u001b[0m \u001b[38;5;66;03m# If we don't have any hooks, we want to skip the rest of the logic in\u001b[39;00m\n\u001b[1;32m   1187\u001b[0m \u001b[38;5;66;03m# this function, and just call forward.\u001b[39;00m\n\u001b[1;32m   1188\u001b[0m \u001b[38;5;28;01mif\u001b[39;00m \u001b[38;5;129;01mnot\u001b[39;00m (\u001b[38;5;28mself\u001b[39m\u001b[38;5;241m.\u001b[39m_backward_hooks \u001b[38;5;129;01mor\u001b[39;00m \u001b[38;5;28mself\u001b[39m\u001b[38;5;241m.\u001b[39m_forward_hooks \u001b[38;5;129;01mor\u001b[39;00m \u001b[38;5;28mself\u001b[39m\u001b[38;5;241m.\u001b[39m_forward_pre_hooks \u001b[38;5;129;01mor\u001b[39;00m _global_backward_hooks\n\u001b[1;32m   1189\u001b[0m         \u001b[38;5;129;01mor\u001b[39;00m _global_forward_hooks \u001b[38;5;129;01mor\u001b[39;00m _global_forward_pre_hooks):\n\u001b[0;32m-> 1190\u001b[0m     \u001b[38;5;28;01mreturn\u001b[39;00m \u001b[43mforward_call\u001b[49m\u001b[43m(\u001b[49m\u001b[38;5;241;43m*\u001b[39;49m\u001b[38;5;28;43minput\u001b[39;49m\u001b[43m,\u001b[49m\u001b[43m \u001b[49m\u001b[38;5;241;43m*\u001b[39;49m\u001b[38;5;241;43m*\u001b[39;49m\u001b[43mkwargs\u001b[49m\u001b[43m)\u001b[49m\n\u001b[1;32m   1191\u001b[0m \u001b[38;5;66;03m# Do not call functions when jit is used\u001b[39;00m\n\u001b[1;32m   1192\u001b[0m full_backward_hooks, non_full_backward_hooks \u001b[38;5;241m=\u001b[39m [], []\n",
      "File \u001b[0;32m/usr/local/lib/python3.9/site-packages/torch/nn/modules/loss.py:216\u001b[0m, in \u001b[0;36mNLLLoss.forward\u001b[0;34m(self, input, target)\u001b[0m\n\u001b[1;32m    215\u001b[0m \u001b[38;5;28;01mdef\u001b[39;00m \u001b[38;5;21mforward\u001b[39m(\u001b[38;5;28mself\u001b[39m, \u001b[38;5;28minput\u001b[39m: Tensor, target: Tensor) \u001b[38;5;241m-\u001b[39m\u001b[38;5;241m>\u001b[39m Tensor:\n\u001b[0;32m--> 216\u001b[0m     \u001b[38;5;28;01mreturn\u001b[39;00m \u001b[43mF\u001b[49m\u001b[38;5;241;43m.\u001b[39;49m\u001b[43mnll_loss\u001b[49m\u001b[43m(\u001b[49m\u001b[38;5;28;43minput\u001b[39;49m\u001b[43m,\u001b[49m\u001b[43m \u001b[49m\u001b[43mtarget\u001b[49m\u001b[43m,\u001b[49m\u001b[43m \u001b[49m\u001b[43mweight\u001b[49m\u001b[38;5;241;43m=\u001b[39;49m\u001b[38;5;28;43mself\u001b[39;49m\u001b[38;5;241;43m.\u001b[39;49m\u001b[43mweight\u001b[49m\u001b[43m,\u001b[49m\u001b[43m \u001b[49m\u001b[43mignore_index\u001b[49m\u001b[38;5;241;43m=\u001b[39;49m\u001b[38;5;28;43mself\u001b[39;49m\u001b[38;5;241;43m.\u001b[39;49m\u001b[43mignore_index\u001b[49m\u001b[43m,\u001b[49m\u001b[43m \u001b[49m\u001b[43mreduction\u001b[49m\u001b[38;5;241;43m=\u001b[39;49m\u001b[38;5;28;43mself\u001b[39;49m\u001b[38;5;241;43m.\u001b[39;49m\u001b[43mreduction\u001b[49m\u001b[43m)\u001b[49m\n",
      "File \u001b[0;32m/usr/local/lib/python3.9/site-packages/torch/nn/functional.py:2701\u001b[0m, in \u001b[0;36mnll_loss\u001b[0;34m(input, target, weight, size_average, ignore_index, reduce, reduction)\u001b[0m\n\u001b[1;32m   2699\u001b[0m \u001b[38;5;28;01mif\u001b[39;00m size_average \u001b[38;5;129;01mis\u001b[39;00m \u001b[38;5;129;01mnot\u001b[39;00m \u001b[38;5;28;01mNone\u001b[39;00m \u001b[38;5;129;01mor\u001b[39;00m reduce \u001b[38;5;129;01mis\u001b[39;00m \u001b[38;5;129;01mnot\u001b[39;00m \u001b[38;5;28;01mNone\u001b[39;00m:\n\u001b[1;32m   2700\u001b[0m     reduction \u001b[38;5;241m=\u001b[39m _Reduction\u001b[38;5;241m.\u001b[39mlegacy_get_string(size_average, reduce)\n\u001b[0;32m-> 2701\u001b[0m \u001b[38;5;28;01mreturn\u001b[39;00m \u001b[43mtorch\u001b[49m\u001b[38;5;241;43m.\u001b[39;49m\u001b[43m_C\u001b[49m\u001b[38;5;241;43m.\u001b[39;49m\u001b[43m_nn\u001b[49m\u001b[38;5;241;43m.\u001b[39;49m\u001b[43mnll_loss_nd\u001b[49m\u001b[43m(\u001b[49m\u001b[38;5;28;43minput\u001b[39;49m\u001b[43m,\u001b[49m\u001b[43m \u001b[49m\u001b[43mtarget\u001b[49m\u001b[43m,\u001b[49m\u001b[43m \u001b[49m\u001b[43mweight\u001b[49m\u001b[43m,\u001b[49m\u001b[43m \u001b[49m\u001b[43m_Reduction\u001b[49m\u001b[38;5;241;43m.\u001b[39;49m\u001b[43mget_enum\u001b[49m\u001b[43m(\u001b[49m\u001b[43mreduction\u001b[49m\u001b[43m)\u001b[49m\u001b[43m,\u001b[49m\u001b[43m \u001b[49m\u001b[43mignore_index\u001b[49m\u001b[43m)\u001b[49m\n",
      "\u001b[0;31mRuntimeError\u001b[0m: 0D or 1D target tensor expected, multi-target not supported"
     ]
    }
   ],
   "source": [
    "for epoch in range(num_epochs):\n",
    "    start = time.time()\n",
    "    train_loss = 0.\n",
    "    train_passed = 0\n",
    "    for batch_idx, (data, target) in enumerate(data_train):\n",
    "        print(data.shape, target.shape)\n",
    "        #forward\n",
    "        # predict, _ = model(data)\n",
    "        predict = model(data)\n",
    "        print(predict.shape)\n",
    "        loss = criterion(predict, target)\n",
    "        train_loss += loss.item()\n",
    "        \n",
    "        #backward\n",
    "        optimizer.zero_grad()\n",
    "        loss.backward()\n",
    "        torch.nn.utils.clip_grad_norm_(model.parameters, max_norm=1)\n",
    "        #gradient descent or RMSProp step\n",
    "        optimizer.step()\n",
    "        train_passed += 1\n",
    "    print(\"Epoch {}. Time: {:.3f}, Train loss: {:.3f}\".format(epoch, time.time() - start, train_loss / train_passed))"
   ]
  },
  {
   "cell_type": "code",
   "execution_count": 79,
   "id": "29bb21d0-c7ca-4c63-a4b6-5eb77135fc98",
   "metadata": {},
   "outputs": [],
   "source": [
    "# model(test_string)"
   ]
  },
  {
   "cell_type": "code",
   "execution_count": null,
   "id": "37834139-9ad6-44b3-8f12-ea5e334948ef",
   "metadata": {},
   "outputs": [],
   "source": []
  },
  {
   "cell_type": "markdown",
   "id": "c339fd67-8888-4e1b-82c1-ee756aba9c15",
   "metadata": {},
   "source": [
    "## Задача №2.\n",
    "\n",
    "1. Построить RNN-ячейку на основе полносвязных слоев\n",
    "2. Применить построенную ячейку для генерации текста с выражениями героев сериала “Симпсоны”"
   ]
  },
  {
   "cell_type": "code",
   "execution_count": null,
   "id": "4b537583-653d-4075-adde-993035f215df",
   "metadata": {},
   "outputs": [],
   "source": []
  },
  {
   "cell_type": "code",
   "execution_count": null,
   "id": "32b453b6-1b54-4f19-9d25-4ac8a3cacf74",
   "metadata": {},
   "outputs": [],
   "source": []
  }
 ],
 "metadata": {
  "kernelspec": {
   "display_name": "Python 3 (ipykernel)",
   "language": "python",
   "name": "python3"
  },
  "language_info": {
   "codemirror_mode": {
    "name": "ipython",
    "version": 3
   },
   "file_extension": ".py",
   "mimetype": "text/x-python",
   "name": "python",
   "nbconvert_exporter": "python",
   "pygments_lexer": "ipython3",
   "version": "3.9.12"
  }
 },
 "nbformat": 4,
 "nbformat_minor": 5
}
