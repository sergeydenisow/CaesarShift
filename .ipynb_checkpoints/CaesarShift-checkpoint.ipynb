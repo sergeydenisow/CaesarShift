{
 "cells": [
  {
   "cell_type": "markdown",
   "id": "b1495854-44f2-4772-9cd3-6ad322c8d758",
   "metadata": {},
   "source": [
    "# Caesar shift."
   ]
  },
  {
   "cell_type": "markdown",
   "id": "b20bcf26-9487-41f4-a70c-f5d7f35fd201",
   "metadata": {},
   "source": [
    "## Задача №1.\n",
    "\n",
    "1. Написать алгоритм шифра Цезаря для генерации выборки (сдвиг на К каждой буквы. Например, при сдвиге на 2 буква “А” переходит в букву “В” и тп)\n",
    "2. Сделать нейронную сеть\n",
    "3. Обучить ее (вход - зашифрованная фраза, выход - дешифрованная фраза)\n",
    "4. Проверить качество"
   ]
  },
  {
   "cell_type": "code",
   "execution_count": 64,
   "id": "7ef45756-aeee-411a-b24e-0d66c6de356c",
   "metadata": {},
   "outputs": [],
   "source": [
    "import re"
   ]
  },
  {
   "cell_type": "code",
   "execution_count": 65,
   "id": "4e366cf4-e5ef-4fc0-9598-42e977734088",
   "metadata": {},
   "outputs": [],
   "source": [
    "letters = \"а б в г д е ё ж з и й к л м н о п р с т у ф х ц ч ш щ ъ ы ь э ю я\""
   ]
  },
  {
   "cell_type": "code",
   "execution_count": 66,
   "id": "7ee49da7-c6b8-4b7c-80de-a43fcc735d70",
   "metadata": {},
   "outputs": [],
   "source": [
    "indexes = [i for i in range(33)]"
   ]
  },
  {
   "cell_type": "code",
   "execution_count": 67,
   "id": "bc0d3d11-22fd-45e5-a040-a9f97b677b85",
   "metadata": {},
   "outputs": [],
   "source": [
    "alphabet = dict(zip(indexes, letters.split()))"
   ]
  },
  {
   "cell_type": "code",
   "execution_count": 70,
   "id": "f81e2d57-d33e-4de8-86c5-8ece204e439b",
   "metadata": {},
   "outputs": [],
   "source": [
    "pattern = r'[АБВГДЕЁЖЗИЙКЛМНОПРСТУФХЦЧШЩЪЫЬЭЮЯабвгдеёжзийклмнопрстуфхцчшщъыьэюя]'"
   ]
  },
  {
   "cell_type": "code",
   "execution_count": 71,
   "id": "5b804b68-9696-486c-a2fa-8db89d4d12ca",
   "metadata": {},
   "outputs": [],
   "source": [
    "# list(alphabet.values()).index('я')"
   ]
  },
  {
   "cell_type": "code",
   "execution_count": 72,
   "id": "9f82c0ac-854a-4001-8b1b-2f7ccd0757ef",
   "metadata": {},
   "outputs": [],
   "source": [
    "# def get_letter(index):\n",
    "#     return alphabet[index]"
   ]
  },
  {
   "cell_type": "code",
   "execution_count": 73,
   "id": "74aca195-0bb9-455f-84a0-7ca1bfd3d849",
   "metadata": {},
   "outputs": [],
   "source": [
    "def get_index(letter):\n",
    "    if letter in alphabet.values():\n",
    "        return list(alphabet.values()).index(letter)"
   ]
  },
  {
   "cell_type": "code",
   "execution_count": 74,
   "id": "8d80f970-569a-458d-bc56-8eee5702e4d0",
   "metadata": {},
   "outputs": [
    {
     "data": {
      "text/plain": [
       "1"
      ]
     },
     "execution_count": 74,
     "metadata": {},
     "output_type": "execute_result"
    }
   ],
   "source": [
    "get_index('б')"
   ]
  },
  {
   "cell_type": "code",
   "execution_count": 84,
   "id": "437591fa-e08e-435b-b98e-ac83f18b560c",
   "metadata": {},
   "outputs": [
    {
     "data": {
      "text/plain": [
       "'т'"
      ]
     },
     "execution_count": 84,
     "metadata": {},
     "output_type": "execute_result"
    }
   ],
   "source": [
    "# Если сдвиг 5\n",
    "shift = 3\n",
    "alphabet[get_index('п') + shift]"
   ]
  },
  {
   "cell_type": "code",
   "execution_count": 201,
   "id": "0d641b69-919d-400c-a106-67e67328b9e2",
   "metadata": {},
   "outputs": [],
   "source": [
    "def new_index(old_index, shift):\n",
    "    # T = len(alphabet)\n",
    "    T = 13\n",
    "    if old_index >= shift:\n",
    "        index = old_index - shift%T\n",
    "    else:\n",
    "        index = (shift%T) - old_index\n",
    "        print(f\"{index}:\")\n",
    "    return index"
   ]
  },
  {
   "cell_type": "code",
   "execution_count": 202,
   "id": "450348c9-755c-431b-8286-d1b95daf2db8",
   "metadata": {},
   "outputs": [
    {
     "name": "stdout",
     "output_type": "stream",
     "text": [
      "-3:\n"
     ]
    },
    {
     "data": {
      "text/plain": [
       "-3"
      ]
     },
     "execution_count": 202,
     "metadata": {},
     "output_type": "execute_result"
    }
   ],
   "source": [
    "new_index(4, 14)"
   ]
  },
  {
   "cell_type": "code",
   "execution_count": 86,
   "id": "da93fb47-5062-4b37-8dd4-bc5435cb62d6",
   "metadata": {},
   "outputs": [],
   "source": [
    "test_string = \"Некоторые люди для запоминания количества букв в русском алфавите ассоциируют их с популярными фразами: «33 удовольствия», «33 несчастья», «33 коровы». Другие люди ассоциируют с фактами из своей жизни: живу в квартире номер 33, живу в регионе 33 (Владимирская область), играю в команде под номером 33 и подобными. И если число букв алфавита вновь забывается, то ассоциированные фразы помогают его вспомнить. Может, и вам поможет.\""
   ]
  },
  {
   "cell_type": "code",
   "execution_count": 87,
   "id": "c7673608-43eb-4721-9efe-51d08ff6aebb",
   "metadata": {},
   "outputs": [
    {
     "data": {
      "text/plain": [
       "'некоторые люди для запоминания количества букв в русском алфавите ассоциируют их с популярными фразами: «33 удовольствия», «33 несчастья», «33 коровы». другие люди ассоциируют с фактами из своей жизни: живу в квартире номер 33, живу в регионе 33 (владимирская область), играю в команде под номером 33 и подобными. и если число букв алфавита вновь забывается, то ассоциированные фразы помогают его вспомнить. может, и вам поможет.'"
      ]
     },
     "execution_count": 87,
     "metadata": {},
     "output_type": "execute_result"
    }
   ],
   "source": [
    "test_string.lower()"
   ]
  },
  {
   "cell_type": "code",
   "execution_count": null,
   "id": "4d2e984d-e266-461f-8295-f0c21a0e0b1b",
   "metadata": {},
   "outputs": [],
   "source": []
  },
  {
   "cell_type": "code",
   "execution_count": 274,
   "id": "67f3e172-4933-46f8-a97a-0f2fe246d08e",
   "metadata": {},
   "outputs": [],
   "source": [
    "shift = 14"
   ]
  },
  {
   "cell_type": "code",
   "execution_count": 275,
   "id": "ab979690-95f5-4d74-9b97-7f9132946f53",
   "metadata": {},
   "outputs": [
    {
     "data": {
      "text/plain": [
       "33"
      ]
     },
     "execution_count": 275,
     "metadata": {},
     "output_type": "execute_result"
    }
   ],
   "source": [
    "len(alphabet)"
   ]
  },
  {
   "cell_type": "code",
   "execution_count": 276,
   "id": "96be570f-ca23-4118-b049-753809342efb",
   "metadata": {},
   "outputs": [],
   "source": [
    "def tmp(shift):\n",
    "    if shift >= 13:\n",
    "        shift = shift%13\n",
    "    else:\n",
    "        pass\n",
    "    \n",
    "    for i in range(13):\n",
    "        if i < shift:\n",
    "            print(13 + (i - shift%13))\n",
    "        else:\n",
    "            print(i - shift%13)"
   ]
  },
  {
   "cell_type": "code",
   "execution_count": 280,
   "id": "8ff0c15d-67d1-4545-a0a8-29f802a19e2e",
   "metadata": {},
   "outputs": [
    {
     "name": "stdout",
     "output_type": "stream",
     "text": [
      "9\n",
      "10\n",
      "11\n",
      "12\n",
      "0\n",
      "1\n",
      "2\n",
      "3\n",
      "4\n",
      "5\n",
      "6\n",
      "7\n",
      "8\n"
     ]
    }
   ],
   "source": [
    "tmp(17)"
   ]
  },
  {
   "cell_type": "markdown",
   "id": "c339fd67-8888-4e1b-82c1-ee756aba9c15",
   "metadata": {},
   "source": [
    "## Задача №2.\n",
    "\n",
    "1. Построить RNN-ячейку на основе полносвязных слоев\n",
    "2. Применить построенную ячейку для генерации текста с выражениями героев сериала “Симпсоны”"
   ]
  },
  {
   "cell_type": "code",
   "execution_count": null,
   "id": "4b537583-653d-4075-adde-993035f215df",
   "metadata": {},
   "outputs": [],
   "source": []
  },
  {
   "cell_type": "code",
   "execution_count": null,
   "id": "32b453b6-1b54-4f19-9d25-4ac8a3cacf74",
   "metadata": {},
   "outputs": [],
   "source": []
  }
 ],
 "metadata": {
  "kernelspec": {
   "display_name": "Python 3 (ipykernel)",
   "language": "python",
   "name": "python3"
  },
  "language_info": {
   "codemirror_mode": {
    "name": "ipython",
    "version": 3
   },
   "file_extension": ".py",
   "mimetype": "text/x-python",
   "name": "python",
   "nbconvert_exporter": "python",
   "pygments_lexer": "ipython3",
   "version": "3.10.6"
  }
 },
 "nbformat": 4,
 "nbformat_minor": 5
}
